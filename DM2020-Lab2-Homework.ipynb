{
 "cells": [
  {
   "cell_type": "markdown",
   "metadata": {},
   "source": [
    "### Student Information\n",
    "Name:崔敏慧\n",
    "\n",
    "Student ID:108065516\n",
    "\n",
    "GitHub ID:tsumin99\n",
    "\n",
    "Kaggle name:崔敏慧Tsuei, Min-Hui\n",
    "\n",
    "Kaggle private scoreboard snapshot:\n",
    "\n",
    "[Snapshot](img/pic0.PNG)"
   ]
  },
  {
   "cell_type": "markdown",
   "metadata": {},
   "source": [
    "---"
   ]
  },
  {
   "cell_type": "markdown",
   "metadata": {},
   "source": [
    "### Instructions"
   ]
  },
  {
   "cell_type": "markdown",
   "metadata": {},
   "source": [
    "1. First: __This part is worth 30% of your grade.__ Do the **take home** exercises in the [DM2020-Lab2-Master Repo](https://github.com/fhcalderon87/DM2020-Lab2-Master). You may need to copy some cells from the Lab notebook to this notebook. \n",
    "\n",
    "\n",
    "2. Second: __This part is worth 30% of your grade.__ Participate in the in-class [Kaggle Competition](https://www.kaggle.com/c/dm2020-hw2-nthu/) regarding Emotion Recognition on Twitter. The scoring will be given according to your place in the Private Leaderboard ranking: \n",
    "    - **Bottom 40%**: Get 20% of the score (ie. 20% of 30% )\n",
    "\n",
    "    - **Top 41% - 100%**: Get (101-x)% of the score, where x is your ranking in the leaderboard (ie. (101-x)% of 30% )   \n",
    "    Submit your last submission __BEFORE the deadline (Dec. 5th 11:59 pm, Saturday)__. Make sure to take a screenshot of your position at the end of the competition and store it as '''pic0.png''' under the **img** folder of this repository and rerun the cell **Student Information**.\n",
    "    \n",
    "\n",
    "3. Third: __This part is worth 30% of your grade.__ A report of your work developping the model for the competition (You can use code and comment it). This report should include what your preprocessing steps, the feature engineering steps and an explanation of your model. You can also mention different things you tried and insights you gained. \n",
    "\n",
    "\n",
    "4. Fourth: __This part is worth 10% of your grade.__ It's hard for us to follow if your code is messy :'(, so please **tidy up your notebook** and **add minimal comments where needed**.\n",
    "\n",
    "\n",
    "You can submit your homework following these guidelines: [Git Intro & How to hand your homework](https://github.com/fhcalderon87/DM2020-Lab1-Master/blob/master/Git%20Intro%20%26%20How%20to%20hand%20your%20homework.ipynb), but make sure to fork the [DM2020-Lab2-Homework](https://github.com/fhcalderon87/DM2020-Lab2-Homework) repository this time! Also please __DON´T UPLOAD HUGE DOCUMENTS__, please use Git ignore for that.\n",
    "\n",
    "Make sure to commit and save your changes to your repository __BEFORE the deadline (Dec. 8th 11:59 pm, Tuesday)__. "
   ]
  },
  {
   "cell_type": "markdown",
   "metadata": {},
   "source": [
    "# First Part：Take home exercises"
   ]
  },
  {
   "cell_type": "markdown",
   "metadata": {},
   "source": [
    "### ** >>> Exercise 1 (Take home): **  \n",
    "Plot word frequency for Top 30 words in both train and test dataset. (Hint: refer to DM lab 1)\n"
   ]
  },
  {
   "cell_type": "code",
   "execution_count": 1,
   "metadata": {},
   "outputs": [],
   "source": [
    "# Import Libraries\n",
    "from sklearn.datasets import fetch_20newsgroups\n",
    "from sklearn.feature_extraction.text import CountVectorizer, TfidfVectorizer\n",
    "from sklearn.decomposition import PCA\n",
    "from sklearn import preprocessing, metrics, decomposition, pipeline, dummy\n",
    "from mpl_toolkits.mplot3d.axes3d import Axes3D\n",
    "import pandas as pd\n",
    "import numpy as np\n",
    "import matplotlib.pyplot as plt\n",
    "import seaborn as sns\n",
    "import plotly.express as px\n",
    "import math\n",
    "import nltk"
   ]
  },
  {
   "cell_type": "code",
   "execution_count": 2,
   "metadata": {},
   "outputs": [],
   "source": [
    "import pandas as pd\n",
    "\n",
    "### training data\n",
    "anger_train = pd.read_csv(\"data/semeval/train/anger-ratings-0to1.train.txt\",\n",
    "                         sep=\"\\t\", header=None,names=[\"id\", \"text\", \"emotion\", \"intensity\"])\n",
    "sadness_train = pd.read_csv(\"data/semeval/train/sadness-ratings-0to1.train.txt\",\n",
    "                         sep=\"\\t\", header=None, names=[\"id\", \"text\", \"emotion\", \"intensity\"])\n",
    "fear_train = pd.read_csv(\"data/semeval/train/fear-ratings-0to1.train.txt\",\n",
    "                         sep=\"\\t\", header=None, names=[\"id\", \"text\", \"emotion\", \"intensity\"])\n",
    "joy_train = pd.read_csv(\"data/semeval/train/joy-ratings-0to1.train.txt\",\n",
    "                         sep=\"\\t\", header=None, names=[\"id\", \"text\", \"emotion\", \"intensity\"])"
   ]
  },
  {
   "cell_type": "code",
   "execution_count": 3,
   "metadata": {},
   "outputs": [],
   "source": [
    "# combine 4 sub-dataset\n",
    "train_df = pd.concat([anger_train, fear_train, joy_train, sadness_train], ignore_index=True)"
   ]
  },
  {
   "cell_type": "code",
   "execution_count": 4,
   "metadata": {},
   "outputs": [
    {
     "data": {
      "text/html": [
       "<div>\n",
       "<style scoped>\n",
       "    .dataframe tbody tr th:only-of-type {\n",
       "        vertical-align: middle;\n",
       "    }\n",
       "\n",
       "    .dataframe tbody tr th {\n",
       "        vertical-align: top;\n",
       "    }\n",
       "\n",
       "    .dataframe thead th {\n",
       "        text-align: right;\n",
       "    }\n",
       "</style>\n",
       "<table border=\"1\" class=\"dataframe\">\n",
       "  <thead>\n",
       "    <tr style=\"text-align: right;\">\n",
       "      <th></th>\n",
       "      <th>id</th>\n",
       "      <th>text</th>\n",
       "      <th>emotion</th>\n",
       "      <th>intensity</th>\n",
       "    </tr>\n",
       "  </thead>\n",
       "  <tbody>\n",
       "    <tr>\n",
       "      <th>0</th>\n",
       "      <td>10000</td>\n",
       "      <td>How the fu*k! Who the heck! moved my fridge!.....</td>\n",
       "      <td>anger</td>\n",
       "      <td>0.938</td>\n",
       "    </tr>\n",
       "    <tr>\n",
       "      <th>1</th>\n",
       "      <td>10001</td>\n",
       "      <td>So my Indian Uber driver just called someone t...</td>\n",
       "      <td>anger</td>\n",
       "      <td>0.896</td>\n",
       "    </tr>\n",
       "    <tr>\n",
       "      <th>2</th>\n",
       "      <td>10002</td>\n",
       "      <td>@DPD_UK I asked for my parcel to be delivered ...</td>\n",
       "      <td>anger</td>\n",
       "      <td>0.896</td>\n",
       "    </tr>\n",
       "    <tr>\n",
       "      <th>3</th>\n",
       "      <td>10003</td>\n",
       "      <td>so ef whichever butt wipe pulled the fire alar...</td>\n",
       "      <td>anger</td>\n",
       "      <td>0.896</td>\n",
       "    </tr>\n",
       "    <tr>\n",
       "      <th>4</th>\n",
       "      <td>10004</td>\n",
       "      <td>Don't join @BTCare they put the phone down on ...</td>\n",
       "      <td>anger</td>\n",
       "      <td>0.896</td>\n",
       "    </tr>\n",
       "  </tbody>\n",
       "</table>\n",
       "</div>"
      ],
      "text/plain": [
       "      id                                               text emotion  intensity\n",
       "0  10000  How the fu*k! Who the heck! moved my fridge!.....   anger      0.938\n",
       "1  10001  So my Indian Uber driver just called someone t...   anger      0.896\n",
       "2  10002  @DPD_UK I asked for my parcel to be delivered ...   anger      0.896\n",
       "3  10003  so ef whichever butt wipe pulled the fire alar...   anger      0.896\n",
       "4  10004  Don't join @BTCare they put the phone down on ...   anger      0.896"
      ]
     },
     "execution_count": 4,
     "metadata": {},
     "output_type": "execute_result"
    }
   ],
   "source": [
    "### testing data\n",
    "anger_test = pd.read_csv(\"data/semeval/dev/anger-ratings-0to1.dev.gold.txt\",\n",
    "                         sep=\"\\t\", header=None, names=[\"id\", \"text\", \"emotion\", \"intensity\"])\n",
    "sadness_test = pd.read_csv(\"data/semeval/dev/sadness-ratings-0to1.dev.gold.txt\",\n",
    "                         sep=\"\\t\", header=None, names=[\"id\", \"text\", \"emotion\", \"intensity\"])\n",
    "fear_test = pd.read_csv(\"data/semeval/dev/fear-ratings-0to1.dev.gold.txt\",\n",
    "                         sep=\"\\t\", header=None, names=[\"id\", \"text\", \"emotion\", \"intensity\"])\n",
    "joy_test = pd.read_csv(\"data/semeval/dev/joy-ratings-0to1.dev.gold.txt\",\n",
    "                         sep=\"\\t\", header=None, names=[\"id\", \"text\", \"emotion\", \"intensity\"])\n",
    "\n",
    "# combine 4 sub-dataset\n",
    "test_df = pd.concat([anger_test, fear_test, joy_test, sadness_test], ignore_index=True)\n",
    "train_df.head()"
   ]
  },
  {
   "cell_type": "code",
   "execution_count": 5,
   "metadata": {},
   "outputs": [],
   "source": [
    "# shuffle dataset\n",
    "train_df = train_df.sample(frac=1)\n",
    "test_df = test_df.sample(frac=1)"
   ]
  },
  {
   "cell_type": "code",
   "execution_count": 6,
   "metadata": {},
   "outputs": [],
   "source": [
    "# Use the CountVectorizer to count the frequencies\n",
    "count_vect = CountVectorizer()\n",
    "train_counts = count_vect.fit_transform(train_df.text)\n",
    "# term frequency count in training dataset\n",
    "train_fre = train_counts.toarray().sum(axis=0)\n",
    "\n"
   ]
  },
  {
   "cell_type": "code",
   "execution_count": 7,
   "metadata": {
    "scrolled": true
   },
   "outputs": [
    {
     "data": {
      "image/png": "[encoded data removed]",
      "text/plain": [
       "<Figure size 576x432 with 1 Axes>"
      ]
     },
     "metadata": {
      "needs_background": "light"
     },
     "output_type": "display_data"
    }
   ],
   "source": [
    "# plot the top 30 term with most appearance in training dataset.\n",
    "\n",
    "N = 30\n",
    "index = np.arange(N)\n",
    "\n",
    "train_30term = []\n",
    "for i in np.argsort(train_fre)[::-1][:N]:\n",
    "    train_30term.append(count_vect.get_feature_names()[i])\n",
    "y = np.sort(train_fre)[::-1][:N]\n",
    "\n",
    "fig = plt.figure(figsize=(8, 6))\n",
    "ax = fig.subplots()\n",
    "\n",
    "ax.set_title('Popular 30 terms in the training dataset')\n",
    "ax.barh(index, y, align='center', color='tab:red')\n",
    "ax.set_yticks(index)\n",
    "ax.set_yticklabels(train_30term)\n",
    "ax.invert_yaxis()\n",
    "\n",
    "fig.tight_layout()\n",
    "plt.show()"
   ]
  },
  {
   "cell_type": "code",
   "execution_count": 8,
   "metadata": {},
   "outputs": [],
   "source": [
    "# Use the CountVectorizer to count the frequencies\n",
    "count_vect2 = CountVectorizer()\n",
    "test_counts = count_vect2.fit_transform(test_df.text)\n",
    "# term frequency count in testing dataset\n",
    "test_fre = test_counts.toarray().sum(axis=0)"
   ]
  },
  {
   "cell_type": "code",
   "execution_count": 9,
   "metadata": {},
   "outputs": [
    {
     "data": {
      "image/png": "[encoded data removed]",
      "text/plain": [
       "<Figure size 576x432 with 1 Axes>"
      ]
     },
     "metadata": {
      "needs_background": "light"
     },
     "output_type": "display_data"
    }
   ],
   "source": [
    "# plot the top 30 term with most appearance in testing dataset.\n",
    "\n",
    "N = 30\n",
    "index = np.arange(N)\n",
    "\n",
    "test_30term = []\n",
    "for i in np.argsort(test_fre)[::-1][:N]:\n",
    "    test_30term.append(count_vect.get_feature_names()[i])\n",
    "y = np.sort(test_fre)[::-1][:N]\n",
    "\n",
    "fig = plt.figure(figsize=(8, 6))\n",
    "ax = fig.subplots()\n",
    "\n",
    "ax.set_title('Popular 30 terms in the testing dataset')\n",
    "ax.barh(index, y, align='center', color='tab:blue')\n",
    "ax.set_yticks(index)\n",
    "ax.set_yticklabels(test_30term)\n",
    "ax.invert_yaxis()\n",
    "\n",
    "fig.tight_layout()\n",
    "plt.show()"
   ]
  },
  {
   "cell_type": "markdown",
   "metadata": {},
   "source": [
    "### ** >>> Exercise 2 (Take home): **  \n",
    "Generate an embedding using the TF-IDF vectorizer instead of th BOW one with 1000 features and show the feature names for features [100:110]."
   ]
  },
  {
   "cell_type": "code",
   "execution_count": 10,
   "metadata": {},
   "outputs": [
    {
     "data": {
      "text/plain": [
       "['2k17', '2much', '2nd', '30', '300', '301', '30am', '30pm', '30s', '31']"
      ]
     },
     "execution_count": 10,
     "metadata": {},
     "output_type": "execute_result"
    }
   ],
   "source": [
    "# build analyzers (bag-of-words)\n",
    "tfidf_vect = TfidfVectorizer()\n",
    "# 1. Learn a vocabulary dictionary of all tokens in the raw documents.\n",
    "tfidf_vect.fit(train_df['text'])\n",
    "\n",
    "# 2. Transform documents to document-term matrix.\n",
    "train_data_tfidf_features = tfidf_vect.transform(train_df['text'])\n",
    "# observe some feature names\n",
    "feature_names = tfidf_vect.get_feature_names()\n",
    "feature_names[100:110]"
   ]
  },
  {
   "cell_type": "code",
   "execution_count": 11,
   "metadata": {},
   "outputs": [
    {
     "data": {
      "text/plain": [
       "['awful', 'b', 'baby', 'back', 'bad', 'ball', 'balls', 'bb18', 'bc', 'bday']"
      ]
     },
     "execution_count": 11,
     "metadata": {},
     "output_type": "execute_result"
    }
   ],
   "source": [
    "# build analyzers (bag-of-words)\n",
    "tfidf_1000 = TfidfVectorizer(max_features=1000, tokenizer=nltk.word_tokenize) \n",
    "\n",
    "# apply analyzer to training data\n",
    "tfidf_1000.fit(train_df['text'])\n",
    "\n",
    "train_data_tfidf_features_1000 = tfidf_1000.transform(train_df['text'])\n",
    "\n",
    "feature_names_1000 = tfidf_1000.get_feature_names()\n",
    "feature_names_1000[100:110]"
   ]
  },
  {
   "cell_type": "markdown",
   "metadata": {},
   "source": [
    "### ** >>> Exercise 3 (Take home): **  \n",
    "Can you interpret the results above? What do they mean?\n",
    "![Imgur](pics/pic1.png)"
   ]
  },
  {
   "cell_type": "markdown",
   "metadata": {},
   "source": [
    "Since the X-axis means \"True label\" and Y-axis represents \"Predicted label\", we could see how the true label and the predicted label overlapped and the accuracy of the analysis between them. \n",
    ".\n",
    "\n",
    "Discoveries：\n",
    "\n",
    ".\n",
    "-> The number of matched labels has the following trend: Fear > Anger > Joy > Sadness, we could see that \"Fear\" got the highest performance in matching labels, however, \"Fear & Sadness\" have most unstable results with other three emotion tags. We could also see from the rate of accurate matching, \"Joy\" performs the best.\n",
    ".\n",
    "\n",
    "-> For the unmatched labels and interpret from the \"True label\" side, we could see that \"Anger\" is more liely to be wrongly matched with \"Fear\"(vice versa), and \"Joy\" would be liely mistook as the same amount for the remaining three emotion tags, and \"Sadness\" would be liely mistook as \"Fear\". \n",
    ".\n",
    "\n",
    "->For the unmatched labels and interpret from the \"Predicted label\" side, we could see that the prediction liely mistook \"Anger\" as \"Fear\", and the \"Fear\" it predicted were 16 times as \"Sadness\" and 15 times as \"Anger\", the \"Joy\" was actually wrongly predicted 13 times as the \"Fear\", and so on. \n",
    ".\n",
    "\n",
    "->This is quite interesting cause these emotions were quite distincitve, we could expect that people use sarcasm, dark humor or white lies' as strategy to illustrate things, so that We could see that these intersects of the emotions would be easily misclassified.  \n",
    "***"
   ]
  },
  {
   "cell_type": "code",
   "execution_count": 12,
   "metadata": {},
   "outputs": [
    {
     "name": "stdout",
     "output_type": "stream",
     "text": [
      "X_train.shape:  (3613, 500)\n",
      "y_train.shape:  (3613,)\n",
      "X_test.shape:  (347, 500)\n",
      "y_test.shape:  (347,)\n"
     ]
    }
   ],
   "source": [
    "from sklearn.tree import DecisionTreeClassifier\n",
    "# build analyzers (bag-of-words)\n",
    "BOW_vectorizer = CountVectorizer() \n",
    "# Learn a vocabulary dictionary of all tokens in the raw documents.\n",
    "BOW_vectorizer.fit(train_df['text'])\n",
    "\n",
    "# build analyzers (bag-of-words)\n",
    "BOW_500 = CountVectorizer(max_features=500, tokenizer=nltk.word_tokenize) \n",
    "# apply analyzer to training data\n",
    "BOW_500.fit(train_df['text'])\n",
    "# for a classificaiton problem, you need to provide both training & testing data\n",
    "X_train = BOW_500.transform(train_df['text'])\n",
    "y_train = train_df['emotion']\n",
    "\n",
    "X_test = BOW_500.transform(test_df['text'])\n",
    "y_test = test_df['emotion']\n",
    "\n",
    "## take a look at data dimension is a good habbit  :)\n",
    "print('X_train.shape: ', X_train.shape)\n",
    "print('y_train.shape: ', y_train.shape)\n",
    "print('X_test.shape: ', X_test.shape)\n",
    "print('y_test.shape: ', y_test.shape)"
   ]
  },
  {
   "cell_type": "code",
   "execution_count": 13,
   "metadata": {},
   "outputs": [
    {
     "data": {
      "text/plain": [
       "array(['fear', 'fear', 'joy', 'fear', 'anger', 'sadness', 'sadness',\n",
       "       'sadness', 'joy', 'fear'], dtype=object)"
      ]
     },
     "execution_count": 13,
     "metadata": {},
     "output_type": "execute_result"
    }
   ],
   "source": [
    "## build DecisionTree model\n",
    "DT_model = DecisionTreeClassifier(random_state=0)\n",
    "\n",
    "## training!\n",
    "DT_model = DT_model.fit(X_train, y_train)\n",
    "\n",
    "## predict!\n",
    "y_train_pred = DT_model.predict(X_train)\n",
    "y_test_pred = DT_model.predict(X_test)\n",
    "\n",
    "## so we get the pred result\n",
    "y_test_pred[:10]"
   ]
  },
  {
   "cell_type": "code",
   "execution_count": 14,
   "metadata": {},
   "outputs": [
    {
     "name": "stdout",
     "output_type": "stream",
     "text": [
      "training accuracy: 0.99\n",
      "testing accuracy: 0.64\n"
     ]
    }
   ],
   "source": [
    "## accuracy\n",
    "from sklearn.metrics import accuracy_score\n",
    "\n",
    "acc_train = accuracy_score(y_true=y_train, y_pred=y_train_pred)\n",
    "acc_test = accuracy_score(y_true=y_test, y_pred=y_test_pred)\n",
    "\n",
    "print('training accuracy: {}'.format(round(acc_train, 2)))\n",
    "print('testing accuracy: {}'.format(round(acc_test, 2)))\n"
   ]
  },
  {
   "cell_type": "code",
   "execution_count": 15,
   "metadata": {},
   "outputs": [
    {
     "name": "stdout",
     "output_type": "stream",
     "text": [
      "              precision    recall  f1-score   support\n",
      "\n",
      "       anger       0.65      0.65      0.65        84\n",
      "        fear       0.62      0.64      0.63       110\n",
      "         joy       0.67      0.68      0.68        79\n",
      "     sadness       0.61      0.57      0.59        74\n",
      "\n",
      "   micro avg       0.64      0.64      0.64       347\n",
      "   macro avg       0.64      0.64      0.64       347\n",
      "weighted avg       0.64      0.64      0.64       347\n",
      "\n"
     ]
    }
   ],
   "source": [
    "## precision, recall, f1-score,\n",
    "from sklearn.metrics import classification_report\n",
    "\n",
    "print(classification_report(y_true=y_test, y_pred=y_test_pred))"
   ]
  },
  {
   "cell_type": "code",
   "execution_count": 16,
   "metadata": {},
   "outputs": [
    {
     "name": "stdout",
     "output_type": "stream",
     "text": [
      "[[55 16  9  4]\n",
      " [15 70  9 16]\n",
      " [ 5 13 54  7]\n",
      " [ 9 14  9 42]]\n"
     ]
    }
   ],
   "source": [
    "## check by confusion matrix\n",
    "from sklearn.metrics import confusion_matrix\n",
    "\n",
    "cm = confusion_matrix(y_true=y_test, y_pred=y_test_pred) \n",
    "print(cm)"
   ]
  },
  {
   "cell_type": "code",
   "execution_count": 17,
   "metadata": {},
   "outputs": [],
   "source": [
    "import itertools\n",
    "\n",
    "def plot_confusion_matrix(cm, classes, title='Confusion matrix',\n",
    "                          cmap=sns.cubehelix_palette(as_cmap=True)):\n",
    "    \"\"\"\n",
    "    This function is modified from: \n",
    "    http://scikit-learn.org/stable/auto_examples/model_selection/plot_confusion_matrix.html\n",
    "    \"\"\"\n",
    "    classes.sort()\n",
    "    tick_marks = np.arange(len(classes))    \n",
    "    \n",
    "    fig, ax = plt.subplots(figsize=(5,5))\n",
    "    im = ax.imshow(cm, interpolation='nearest', cmap=cmap)\n",
    "    ax.figure.colorbar(im, ax=ax)\n",
    "    ax.set(xticks=np.arange(cm.shape[1]),\n",
    "           yticks=np.arange(cm.shape[0]),\n",
    "           xticklabels = classes,\n",
    "           yticklabels = classes,\n",
    "           title = title,\n",
    "           xlabel = 'True label',\n",
    "           ylabel = 'Predicted label')\n",
    "\n",
    "    fmt = 'd'\n",
    "    thresh = cm.max() / 2.\n",
    "    for i, j in itertools.product(range(cm.shape[0]), range(cm.shape[1])):\n",
    "        plt.text(j, i, format(cm[i, j], fmt), horizontalalignment=\"center\", color=\"white\" if cm[i, j] > thresh else \"black\")\n",
    "    ylim_top = len(classes) - 0.5\n",
    "    plt.ylim([ylim_top, -.5])\n",
    "    plt.tight_layout()\n",
    "    plt.show()"
   ]
  },
  {
   "cell_type": "code",
   "execution_count": 18,
   "metadata": {},
   "outputs": [
    {
     "data": {
      "image/png": "[encoded data removed]",
      "text/plain": [
       "<Figure size 360x360 with 2 Axes>"
      ]
     },
     "metadata": {
      "needs_background": "light"
     },
     "output_type": "display_data"
    }
   ],
   "source": [
    "# plot your confusion matrix\n",
    "my_tags = ['anger', 'fear', 'joy', 'sadness']\n",
    "plot_confusion_matrix(cm, classes=my_tags, title='Confusion matrix')"
   ]
  },
  {
   "cell_type": "markdown",
   "metadata": {},
   "source": [
    "### ** >>> Exercise 4 (Take home): **  \n",
    "Build a model using a ```Naive Bayes``` model and train it. What are the testing results? \n",
    "\n",
    "*Reference*: https://scikit-learn.org/stable/modules/generated/sklearn.naive_bayes.MultinomialNB.html"
   ]
  },
  {
   "cell_type": "code",
   "execution_count": 19,
   "metadata": {},
   "outputs": [
    {
     "name": "stdout",
     "output_type": "stream",
     "text": [
      "X_train.shape:  (3613, 500)\n",
      "y_train.shape:  (3613,)\n",
      "X_test.shape:  (347, 500)\n",
      "y_test.shape:  (347,)\n"
     ]
    }
   ],
   "source": [
    "from sklearn.naive_bayes import MultinomialNB\n",
    "# for a classificaiton problem, you need to provide both training & testing data\n",
    "import nltk\n",
    "BOW_vectorizer = CountVectorizer() \n",
    "# build analyzers (bag-of-words)\n",
    "BOW_500 = CountVectorizer(max_features=500, tokenizer=nltk.word_tokenize) \n",
    "\n",
    "# apply analyzer to training data\n",
    "BOW_500.fit(train_df['text'])\n",
    "\n",
    "train_data_BOW_features_500 = BOW_500.transform(train_df['text'])\n",
    "\n",
    "X_train = BOW_500.transform(train_df['text'])\n",
    "y_train = train_df['emotion']\n",
    "\n",
    "X_test = BOW_500.transform(test_df['text'])\n",
    "y_test = test_df['emotion']\n",
    "\n",
    "## take a look at data dimension is a good habbit  :)\n",
    "print('X_train.shape: ', X_train.shape)\n",
    "print('y_train.shape: ', y_train.shape)\n",
    "print('X_test.shape: ', X_test.shape)\n",
    "print('y_test.shape: ', y_test.shape)"
   ]
  },
  {
   "cell_type": "code",
   "execution_count": 20,
   "metadata": {},
   "outputs": [
    {
     "data": {
      "text/plain": [
       "array(['fear', 'anger', 'joy', 'fear', 'joy', 'sadness', 'sadness',\n",
       "       'sadness', 'joy', 'anger'], dtype='<U7')"
      ]
     },
     "execution_count": 20,
     "metadata": {},
     "output_type": "execute_result"
    }
   ],
   "source": [
    "## build MultinomialNB model\n",
    "mnb_model = MultinomialNB()\n",
    "\n",
    "## training!\n",
    "mnb_model = mnb_model.fit(X_train, y_train)\n",
    "\n",
    "## predict!\n",
    "y_train_pred = mnb_model.predict(X_train)\n",
    "y_test_pred = mnb_model.predict(X_test)\n",
    "\n",
    "## so we get the pred result\n",
    "y_test_pred[:10]"
   ]
  },
  {
   "cell_type": "code",
   "execution_count": 21,
   "metadata": {},
   "outputs": [
    {
     "name": "stdout",
     "output_type": "stream",
     "text": [
      "training accuracy: 0.79\n",
      "testing accuracy: 0.72\n"
     ]
    }
   ],
   "source": [
    "## accuracy\n",
    "from sklearn.metrics import accuracy_score\n",
    "\n",
    "acc_train = accuracy_score(y_true=y_train, y_pred=y_train_pred)\n",
    "acc_test = accuracy_score(y_true=y_test, y_pred=y_test_pred)\n",
    "\n",
    "print('training accuracy: {}'.format(round(acc_train, 2)))\n",
    "print('testing accuracy: {}'.format(round(acc_test, 2)))\n"
   ]
  },
  {
   "cell_type": "code",
   "execution_count": 22,
   "metadata": {},
   "outputs": [
    {
     "name": "stdout",
     "output_type": "stream",
     "text": [
      "              precision    recall  f1-score   support\n",
      "\n",
      "       anger       0.71      0.65      0.68        84\n",
      "        fear       0.74      0.83      0.78       110\n",
      "         joy       0.76      0.71      0.73        79\n",
      "     sadness       0.65      0.64      0.64        74\n",
      "\n",
      "   micro avg       0.72      0.72      0.72       347\n",
      "   macro avg       0.71      0.71      0.71       347\n",
      "weighted avg       0.72      0.72      0.72       347\n",
      "\n"
     ]
    }
   ],
   "source": [
    "## precision, recall, f1-score,\n",
    "from sklearn.metrics import classification_report\n",
    "\n",
    "print(classification_report(y_true=y_test, y_pred=y_test_pred))"
   ]
  },
  {
   "cell_type": "code",
   "execution_count": 23,
   "metadata": {},
   "outputs": [],
   "source": [
    "# Funciton for visualizing confusion_matrix\n",
    "from sklearn.metrics import confusion_matrix\n",
    "import itertools\n",
    "\n",
    "def plot_confusion_matrix(cm, classes, title='Confusion matrix',\n",
    "                          cmap=sns.cubehelix_palette(as_cmap=True)):\n",
    "    \"\"\"\n",
    "    This function is modified from: \n",
    "    http://scikit-learn.org/stable/auto_examples/model_selection/plot_confusion_matrix.html\n",
    "    \"\"\"\n",
    "    classes.sort()\n",
    "    tick_marks = np.arange(len(classes))    \n",
    "    \n",
    "    fig, ax = plt.subplots(figsize=(5,5))\n",
    "    im = ax.imshow(cm, interpolation='nearest', cmap=cmap)\n",
    "    ax.figure.colorbar(im, ax=ax)\n",
    "    ax.set(xticks=np.arange(cm.shape[1]),\n",
    "           yticks=np.arange(cm.shape[0]),\n",
    "           xticklabels = classes,\n",
    "           yticklabels = classes,\n",
    "           title = title,\n",
    "           xlabel = 'True label',\n",
    "           ylabel = 'Predicted label')\n",
    "\n",
    "    fmt = 'd'\n",
    "    thresh = cm.max() / 2.\n",
    "    for i, j in itertools.product(range(cm.shape[0]), range(cm.shape[1])):\n",
    "        plt.text(j, i, format(cm[i, j], fmt), horizontalalignment=\"center\", color=\"white\" if cm[i, j] > thresh else \"black\")\n",
    "    ylim_top = len(classes) - 0.5\n",
    "    plt.ylim([ylim_top, -.5])\n",
    "    plt.tight_layout()\n",
    "    plt.show()"
   ]
  },
  {
   "cell_type": "code",
   "execution_count": 24,
   "metadata": {},
   "outputs": [
    {
     "name": "stdout",
     "output_type": "stream",
     "text": [
      "[[55 14  5 10]\n",
      " [ 6 91  5  8]\n",
      " [ 9  7 56  7]\n",
      " [ 8 11  8 47]]\n"
     ]
    }
   ],
   "source": [
    "## check by confusion matrix\n",
    "from sklearn.metrics import confusion_matrix\n",
    "\n",
    "NBcm = confusion_matrix(y_true=y_test, y_pred=y_test_pred) \n",
    "print(NBcm)"
   ]
  },
  {
   "cell_type": "code",
   "execution_count": 25,
   "metadata": {},
   "outputs": [
    {
     "data": {
      "image/png": "[encoded data removed]",
      "text/plain": [
       "<Figure size 360x360 with 2 Axes>"
      ]
     },
     "metadata": {
      "needs_background": "light"
     },
     "output_type": "display_data"
    }
   ],
   "source": [
    "# plot your confusion matrix\n",
    "my_tags = ['anger', 'fear', 'joy', 'sadness']\n",
    "plot_confusion_matrix(NBcm, classes=my_tags, title='Confusion matrix')"
   ]
  },
  {
   "cell_type": "markdown",
   "metadata": {},
   "source": [
    "### ** >>> Exercise 5 (Take home): **  \n",
    "\n",
    "How do the results from the Naive Bayes model and the Decision Tree model compare? How do you interpret these differences? Use the theoretical background covered in class to try and explain these differences."
   ]
  },
  {
   "cell_type": "markdown",
   "metadata": {},
   "source": [
    "Discovery 1.  By Confusion matrix : Comparing the Naive Bayes and Decision tree model, we could see that the Naive Bayes Model actually performed better than Decision tree, since we could see that the confusion matrix is more balanced and the amount of misunderstanding \"Fear\" label is less.\n",
    ".\n",
    "\n",
    "Discovery 2.  By Accuracy : We could see that from the result of Accuracy, the Naive Bayes model has \"much less over-fitting problem\" than the Decision tree model, and the accuracy corresponds with each other better.\n",
    ".\n",
    "\n",
    "Discovery 3.  By f1-score : We could see from f1-score that by Naive Bayes Model the performance of f1-score are much better for all four emotional categories and for average data.\n",
    ".\n",
    "\n",
    "Explaination 1. -> Since the Decision Tree model works with both classification and regression problems, it's both easy for dealing with categorial and continuous data, also, we just need the data at the first place without too much design. However, the Decision Tree model got overfitting problem since it tends to ignore the relation between the datasets, and it's easier to get too much parameter to cause the over'fitting problem. We could solve this problem by doing tree pruning and change the pruning procedures, or by Random Forest model.\n",
    ".\n",
    "\n",
    "Explanation 2. -> By Naive Bayes model, it is not affected by the curse of dimensionality and large feature sets,, since this time our datasets are relatively diverse, so by this model we got a better performance compared to the Decision Tree model.\n",
    ".\n",
    "\n",
    "Explanation 3. -> By dealing with the over-fitting problem of the Decision Tree model, maybe we could try the \"Regularization\" or \"Dropout\" method to enhance the performance."
   ]
  },
  {
   "cell_type": "markdown",
   "metadata": {},
   "source": [
    "### ** >>> Exercise 6 (Take home): **  \n",
    "\n",
    "Plot the Training and Validation Accuracy and Loss (different plots), just like the images below (Note: the pictures below are an example from a different model). How to interpret the graphs you got? How are they related to the concept of overfitting/underfitting covered in class?\n"
   ]
  },
  {
   "cell_type": "code",
   "execution_count": 28,
   "metadata": {},
   "outputs": [
    {
     "name": "stdout",
     "output_type": "stream",
     "text": [
      "X_train.shape:  (3613, 500)\n",
      "y_train.shape:  (3613,)\n",
      "X_test.shape:  (347, 500)\n",
      "y_test.shape:  (347,)\n"
     ]
    }
   ],
   "source": [
    "import keras\n",
    "\n",
    "# standardize name (X, y) \n",
    "X_train = BOW_500.transform(train_df['text'])\n",
    "y_train = train_df['emotion']\n",
    "\n",
    "X_test = BOW_500.transform(test_df['text'])\n",
    "y_test = test_df['emotion']\n",
    "\n",
    "## check dimension is a good habbit \n",
    "print('X_train.shape: ', X_train.shape)\n",
    "print('y_train.shape: ', y_train.shape)\n",
    "print('X_test.shape: ', X_test.shape)\n",
    "print('y_test.shape: ', y_test.shape)"
   ]
  },
  {
   "cell_type": "code",
   "execution_count": 29,
   "metadata": {},
   "outputs": [
    {
     "name": "stdout",
     "output_type": "stream",
     "text": [
      "check label:  ['anger' 'fear' 'joy' 'sadness']\n",
      "\n",
      "## Before convert\n",
      "y_train[0:4]:\n",
      " 1161       fear\n",
      "3480    sadness\n",
      "445       anger\n",
      "2574        joy\n",
      "Name: emotion, dtype: object\n",
      "\n",
      "y_train.shape:  (3613,)\n",
      "y_test.shape:  (347,)\n",
      "\n",
      "\n",
      "## After convert\n",
      "y_train[0:4]:\n",
      " [[0. 1. 0. 0.]\n",
      " [0. 0. 0. 1.]\n",
      " [1. 0. 0. 0.]\n",
      " [0. 0. 1. 0.]]\n",
      "\n",
      "y_train.shape:  (3613, 4)\n",
      "y_test.shape:  (347, 4)\n"
     ]
    }
   ],
   "source": [
    "## deal with label (string -> one-hot)\n",
    "\n",
    "from sklearn.preprocessing import LabelEncoder\n",
    "\n",
    "label_encoder = LabelEncoder()\n",
    "label_encoder.fit(y_train)\n",
    "print('check label: ', label_encoder.classes_)\n",
    "print('\\n## Before convert')\n",
    "print('y_train[0:4]:\\n', y_train[0:4])\n",
    "print('\\ny_train.shape: ', y_train.shape)\n",
    "print('y_test.shape: ', y_test.shape)\n",
    "\n",
    "def label_encode(le, labels):\n",
    "    enc = le.transform(labels)\n",
    "    return keras.utils.to_categorical(enc)\n",
    "\n",
    "def label_decode(le, one_hot_label):\n",
    "    dec = np.argmax(one_hot_label, axis=1)\n",
    "    return le.inverse_transform(dec)\n",
    "\n",
    "y_train = label_encode(label_encoder, y_train)\n",
    "y_test = label_encode(label_encoder, y_test)\n",
    "\n",
    "print('\\n\\n## After convert')\n",
    "print('y_train[0:4]:\\n', y_train[0:4])\n",
    "print('\\ny_train.shape: ', y_train.shape)\n",
    "print('y_test.shape: ', y_test.shape)"
   ]
  },
  {
   "cell_type": "code",
   "execution_count": 30,
   "metadata": {},
   "outputs": [
    {
     "name": "stdout",
     "output_type": "stream",
     "text": [
      "input_shape:  500\n",
      "output_shape:  4\n"
     ]
    }
   ],
   "source": [
    "# I/O check\n",
    "input_shape = X_train.shape[1]\n",
    "print('input_shape: ', input_shape)\n",
    "\n",
    "output_shape = len(label_encoder.classes_)\n",
    "print('output_shape: ', output_shape)"
   ]
  },
  {
   "cell_type": "code",
   "execution_count": 31,
   "metadata": {},
   "outputs": [
    {
     "name": "stdout",
     "output_type": "stream",
     "text": [
      "WARNING:tensorflow:From C:\\Users\\USER\\Anaconda3\\lib\\site-packages\\tensorflow_core\\python\\ops\\resource_variable_ops.py:1630: calling BaseResourceVariable.__init__ (from tensorflow.python.ops.resource_variable_ops) with constraint is deprecated and will be removed in a future version.\n",
      "Instructions for updating:\n",
      "If using Keras pass *_constraint arguments to layers.\n",
      "Model: \"model_1\"\n",
      "_________________________________________________________________\n",
      "Layer (type)                 Output Shape              Param #   \n",
      "=================================================================\n",
      "input_1 (InputLayer)         (None, 500)               0         \n",
      "_________________________________________________________________\n",
      "dense_1 (Dense)              (None, 64)                32064     \n",
      "_________________________________________________________________\n",
      "re_lu_1 (ReLU)               (None, 64)                0         \n",
      "_________________________________________________________________\n",
      "dense_2 (Dense)              (None, 64)                4160      \n",
      "_________________________________________________________________\n",
      "re_lu_2 (ReLU)               (None, 64)                0         \n",
      "_________________________________________________________________\n",
      "dense_3 (Dense)              (None, 4)                 260       \n",
      "_________________________________________________________________\n",
      "softmax_1 (Softmax)          (None, 4)                 0         \n",
      "=================================================================\n",
      "Total params: 36,484\n",
      "Trainable params: 36,484\n",
      "Non-trainable params: 0\n",
      "_________________________________________________________________\n"
     ]
    }
   ],
   "source": [
    "from keras.models import Model\n",
    "from keras.layers import Input, Dense\n",
    "from keras.layers import ReLU, Softmax\n",
    "\n",
    "# input layer\n",
    "model_input = Input(shape=(input_shape, ))  # 500\n",
    "X = model_input\n",
    "\n",
    "# 1st hidden layer\n",
    "X_W1 = Dense(units=64)(X)  # 64\n",
    "H1 = ReLU()(X_W1)\n",
    "\n",
    "# 2nd hidden layer\n",
    "H1_W2 = Dense(units=64)(H1)  # 64\n",
    "H2 = ReLU()(H1_W2)\n",
    "\n",
    "# output layer\n",
    "H2_W3 = Dense(units=output_shape)(H2)  # 4\n",
    "H3 = Softmax()(H2_W3)\n",
    "\n",
    "model_output = H3\n",
    "\n",
    "# create model\n",
    "model = Model(inputs=[model_input], outputs=[model_output])\n",
    "\n",
    "# loss function & optimizer\n",
    "model.compile(optimizer='adam',\n",
    "              loss='categorical_crossentropy',\n",
    "              metrics=['accuracy'])\n",
    "\n",
    "# show model construction\n",
    "model.summary()"
   ]
  },
  {
   "cell_type": "code",
   "execution_count": 32,
   "metadata": {
    "scrolled": true
   },
   "outputs": [
    {
     "name": "stdout",
     "output_type": "stream",
     "text": [
      "WARNING:tensorflow:From C:\\Users\\USER\\Anaconda3\\lib\\site-packages\\keras\\backend\\tensorflow_backend.py:422: The name tf.global_variables is deprecated. Please use tf.compat.v1.global_variables instead.\n",
      "\n",
      "Train on 3613 samples, validate on 347 samples\n",
      "Epoch 1/25\n",
      "3613/3613 [==============================] - 1s 188us/step - loss: 1.3321 - accuracy: 0.3504 - val_loss: 1.2893 - val_accuracy: 0.4092\n",
      "Epoch 2/25\n",
      "3613/3613 [==============================] - 0s 87us/step - loss: 1.0013 - accuracy: 0.6402 - val_loss: 0.9029 - val_accuracy: 0.6801\n",
      "Epoch 3/25\n",
      "3613/3613 [==============================] - 0s 91us/step - loss: 0.5790 - accuracy: 0.7966 - val_loss: 0.7697 - val_accuracy: 0.7118\n",
      "Epoch 4/25\n",
      "3613/3613 [==============================] - 0s 88us/step - loss: 0.4154 - accuracy: 0.8467 - val_loss: 0.7562 - val_accuracy: 0.7032\n",
      "Epoch 5/25\n",
      "3613/3613 [==============================] - 0s 86us/step - loss: 0.3293 - accuracy: 0.8826 - val_loss: 0.7747 - val_accuracy: 0.6974\n",
      "Epoch 6/25\n",
      "3613/3613 [==============================] - 0s 91us/step - loss: 0.2642 - accuracy: 0.9076 - val_loss: 0.8295 - val_accuracy: 0.7061\n",
      "Epoch 7/25\n",
      "3613/3613 [==============================] - 0s 88us/step - loss: 0.2186 - accuracy: 0.9255 - val_loss: 0.8896 - val_accuracy: 0.6916\n",
      "Epoch 8/25\n",
      "3613/3613 [==============================] - 0s 87us/step - loss: 0.1790 - accuracy: 0.9422 - val_loss: 0.9648 - val_accuracy: 0.6830\n",
      "Epoch 9/25\n",
      "3613/3613 [==============================] - 0s 88us/step - loss: 0.1478 - accuracy: 0.9513 - val_loss: 0.9736 - val_accuracy: 0.6859\n",
      "Epoch 10/25\n",
      "3613/3613 [==============================] - 0s 90us/step - loss: 0.1330 - accuracy: 0.9604 - val_loss: 1.0814 - val_accuracy: 0.6715\n",
      "Epoch 11/25\n",
      "3613/3613 [==============================] - 0s 85us/step - loss: 0.1231 - accuracy: 0.9643 - val_loss: 1.0957 - val_accuracy: 0.6830\n",
      "Epoch 12/25\n",
      "3613/3613 [==============================] - 0s 87us/step - loss: 0.1077 - accuracy: 0.9671 - val_loss: 1.1581 - val_accuracy: 0.6715\n",
      "Epoch 13/25\n",
      "3613/3613 [==============================] - 0s 89us/step - loss: 0.0962 - accuracy: 0.9712 - val_loss: 1.2409 - val_accuracy: 0.6772\n",
      "Epoch 14/25\n",
      "3613/3613 [==============================] - 0s 89us/step - loss: 0.0950 - accuracy: 0.9718 - val_loss: 1.2410 - val_accuracy: 0.6772\n",
      "Epoch 15/25\n",
      "3613/3613 [==============================] - 0s 89us/step - loss: 0.0804 - accuracy: 0.9743 - val_loss: 1.2589 - val_accuracy: 0.6772\n",
      "Epoch 16/25\n",
      "3613/3613 [==============================] - 0s 90us/step - loss: 0.0842 - accuracy: 0.9754 - val_loss: 1.3084 - val_accuracy: 0.6801\n",
      "Epoch 17/25\n",
      "3613/3613 [==============================] - 0s 92us/step - loss: 0.0865 - accuracy: 0.9743 - val_loss: 1.3179 - val_accuracy: 0.6686\n",
      "Epoch 18/25\n",
      "3613/3613 [==============================] - 0s 99us/step - loss: 0.0757 - accuracy: 0.9759 - val_loss: 1.2935 - val_accuracy: 0.6830\n",
      "Epoch 19/25\n",
      "3613/3613 [==============================] - 0s 90us/step - loss: 0.0732 - accuracy: 0.9751 - val_loss: 1.3546 - val_accuracy: 0.6715\n",
      "Epoch 20/25\n",
      "3613/3613 [==============================] - 0s 102us/step - loss: 0.0715 - accuracy: 0.9770 - val_loss: 1.4131 - val_accuracy: 0.6599\n",
      "Epoch 21/25\n",
      "3613/3613 [==============================] - 0s 97us/step - loss: 0.0676 - accuracy: 0.9768 - val_loss: 1.3926 - val_accuracy: 0.6801\n",
      "Epoch 22/25\n",
      "3613/3613 [==============================] - 0s 86us/step - loss: 0.0688 - accuracy: 0.9770 - val_loss: 1.4420 - val_accuracy: 0.6657\n",
      "Epoch 23/25\n",
      "3613/3613 [==============================] - 0s 101us/step - loss: 0.0666 - accuracy: 0.9773 - val_loss: 1.4948 - val_accuracy: 0.6628\n",
      "Epoch 24/25\n",
      "3613/3613 [==============================] - 0s 102us/step - loss: 0.0619 - accuracy: 0.9790 - val_loss: 1.4901 - val_accuracy: 0.6628\n",
      "Epoch 25/25\n",
      "3613/3613 [==============================] - 0s 90us/step - loss: 0.0592 - accuracy: 0.9773 - val_loss: 1.5531 - val_accuracy: 0.6628\n",
      "training finish\n"
     ]
    }
   ],
   "source": [
    "from keras.callbacks import CSVLogger\n",
    "\n",
    "csv_logger = CSVLogger('logs/training_log.csv')\n",
    "\n",
    "# training setting\n",
    "epochs = 25\n",
    "batch_size = 32\n",
    "\n",
    "# training!\n",
    "history = model.fit(X_train, y_train, \n",
    "                    epochs=epochs, \n",
    "                    batch_size=batch_size, \n",
    "                    callbacks=[csv_logger],\n",
    "                    validation_data = (X_test, y_test))\n",
    "print('training finish')"
   ]
  },
  {
   "cell_type": "code",
   "execution_count": 33,
   "metadata": {},
   "outputs": [
    {
     "data": {
      "text/plain": [
       "array([[5.58870706e-05, 9.98990357e-01, 8.59491047e-06, 9.45201435e-04],\n",
       "       [9.66767073e-01, 2.15745941e-02, 1.69871928e-09, 1.16583444e-02],\n",
       "       [5.89498195e-05, 1.40427155e-05, 9.99799669e-01, 1.27360268e-04],\n",
       "       [2.73178443e-06, 9.99928355e-01, 6.17427140e-05, 7.10068571e-06],\n",
       "       [9.62689340e-01, 2.80678715e-03, 7.55286237e-05, 3.44283693e-02]],\n",
       "      dtype=float32)"
      ]
     },
     "execution_count": 33,
     "metadata": {},
     "output_type": "execute_result"
    }
   ],
   "source": [
    "## predict\n",
    "pred_result = model.predict(X_test, batch_size=128)\n",
    "pred_result[:5]"
   ]
  },
  {
   "cell_type": "code",
   "execution_count": 34,
   "metadata": {},
   "outputs": [
    {
     "data": {
      "text/plain": [
       "array(['fear', 'anger', 'joy', 'fear', 'anger'], dtype=object)"
      ]
     },
     "execution_count": 34,
     "metadata": {},
     "output_type": "execute_result"
    }
   ],
   "source": [
    "pred_result = label_decode(label_encoder, pred_result)\n",
    "pred_result[:5]"
   ]
  },
  {
   "cell_type": "code",
   "execution_count": 35,
   "metadata": {},
   "outputs": [
    {
     "name": "stdout",
     "output_type": "stream",
     "text": [
      "testing accuracy: 0.66\n"
     ]
    }
   ],
   "source": [
    "from sklearn.metrics import accuracy_score\n",
    "\n",
    "print('testing accuracy: {}'.format(round(accuracy_score(label_decode(label_encoder, y_test), pred_result), 2)))"
   ]
  },
  {
   "cell_type": "code",
   "execution_count": 36,
   "metadata": {},
   "outputs": [
    {
     "data": {
      "text/html": [
       "<div>\n",
       "<style scoped>\n",
       "    .dataframe tbody tr th:only-of-type {\n",
       "        vertical-align: middle;\n",
       "    }\n",
       "\n",
       "    .dataframe tbody tr th {\n",
       "        vertical-align: top;\n",
       "    }\n",
       "\n",
       "    .dataframe thead th {\n",
       "        text-align: right;\n",
       "    }\n",
       "</style>\n",
       "<table border=\"1\" class=\"dataframe\">\n",
       "  <thead>\n",
       "    <tr style=\"text-align: right;\">\n",
       "      <th></th>\n",
       "      <th>epoch</th>\n",
       "      <th>accuracy</th>\n",
       "      <th>loss</th>\n",
       "      <th>val_accuracy</th>\n",
       "      <th>val_loss</th>\n",
       "    </tr>\n",
       "  </thead>\n",
       "  <tbody>\n",
       "    <tr>\n",
       "      <th>0</th>\n",
       "      <td>0</td>\n",
       "      <td>0.350401</td>\n",
       "      <td>1.332134</td>\n",
       "      <td>0.409222</td>\n",
       "      <td>1.289253</td>\n",
       "    </tr>\n",
       "    <tr>\n",
       "      <th>1</th>\n",
       "      <td>1</td>\n",
       "      <td>0.640188</td>\n",
       "      <td>1.001347</td>\n",
       "      <td>0.680115</td>\n",
       "      <td>0.902941</td>\n",
       "    </tr>\n",
       "    <tr>\n",
       "      <th>2</th>\n",
       "      <td>2</td>\n",
       "      <td>0.796568</td>\n",
       "      <td>0.579014</td>\n",
       "      <td>0.711816</td>\n",
       "      <td>0.769744</td>\n",
       "    </tr>\n",
       "    <tr>\n",
       "      <th>3</th>\n",
       "      <td>3</td>\n",
       "      <td>0.846665</td>\n",
       "      <td>0.415357</td>\n",
       "      <td>0.703170</td>\n",
       "      <td>0.756198</td>\n",
       "    </tr>\n",
       "    <tr>\n",
       "      <th>4</th>\n",
       "      <td>4</td>\n",
       "      <td>0.882646</td>\n",
       "      <td>0.329292</td>\n",
       "      <td>0.697406</td>\n",
       "      <td>0.774735</td>\n",
       "    </tr>\n",
       "    <tr>\n",
       "      <th>5</th>\n",
       "      <td>5</td>\n",
       "      <td>0.907556</td>\n",
       "      <td>0.264233</td>\n",
       "      <td>0.706052</td>\n",
       "      <td>0.829456</td>\n",
       "    </tr>\n",
       "    <tr>\n",
       "      <th>6</th>\n",
       "      <td>6</td>\n",
       "      <td>0.925547</td>\n",
       "      <td>0.218601</td>\n",
       "      <td>0.691643</td>\n",
       "      <td>0.889627</td>\n",
       "    </tr>\n",
       "    <tr>\n",
       "      <th>7</th>\n",
       "      <td>7</td>\n",
       "      <td>0.942153</td>\n",
       "      <td>0.179017</td>\n",
       "      <td>0.682997</td>\n",
       "      <td>0.964771</td>\n",
       "    </tr>\n",
       "    <tr>\n",
       "      <th>8</th>\n",
       "      <td>8</td>\n",
       "      <td>0.951287</td>\n",
       "      <td>0.147764</td>\n",
       "      <td>0.685879</td>\n",
       "      <td>0.973577</td>\n",
       "    </tr>\n",
       "    <tr>\n",
       "      <th>9</th>\n",
       "      <td>9</td>\n",
       "      <td>0.960421</td>\n",
       "      <td>0.133017</td>\n",
       "      <td>0.671470</td>\n",
       "      <td>1.081445</td>\n",
       "    </tr>\n",
       "    <tr>\n",
       "      <th>10</th>\n",
       "      <td>10</td>\n",
       "      <td>0.964296</td>\n",
       "      <td>0.123107</td>\n",
       "      <td>0.682997</td>\n",
       "      <td>1.095736</td>\n",
       "    </tr>\n",
       "    <tr>\n",
       "      <th>11</th>\n",
       "      <td>11</td>\n",
       "      <td>0.967063</td>\n",
       "      <td>0.107738</td>\n",
       "      <td>0.671470</td>\n",
       "      <td>1.158093</td>\n",
       "    </tr>\n",
       "    <tr>\n",
       "      <th>12</th>\n",
       "      <td>12</td>\n",
       "      <td>0.971215</td>\n",
       "      <td>0.096200</td>\n",
       "      <td>0.677233</td>\n",
       "      <td>1.240918</td>\n",
       "    </tr>\n",
       "    <tr>\n",
       "      <th>13</th>\n",
       "      <td>13</td>\n",
       "      <td>0.971769</td>\n",
       "      <td>0.094993</td>\n",
       "      <td>0.677233</td>\n",
       "      <td>1.240955</td>\n",
       "    </tr>\n",
       "    <tr>\n",
       "      <th>14</th>\n",
       "      <td>14</td>\n",
       "      <td>0.974260</td>\n",
       "      <td>0.080401</td>\n",
       "      <td>0.677233</td>\n",
       "      <td>1.258939</td>\n",
       "    </tr>\n",
       "    <tr>\n",
       "      <th>15</th>\n",
       "      <td>15</td>\n",
       "      <td>0.975367</td>\n",
       "      <td>0.084159</td>\n",
       "      <td>0.680115</td>\n",
       "      <td>1.308442</td>\n",
       "    </tr>\n",
       "    <tr>\n",
       "      <th>16</th>\n",
       "      <td>16</td>\n",
       "      <td>0.974260</td>\n",
       "      <td>0.086467</td>\n",
       "      <td>0.668588</td>\n",
       "      <td>1.317928</td>\n",
       "    </tr>\n",
       "    <tr>\n",
       "      <th>17</th>\n",
       "      <td>17</td>\n",
       "      <td>0.975920</td>\n",
       "      <td>0.075729</td>\n",
       "      <td>0.682997</td>\n",
       "      <td>1.293458</td>\n",
       "    </tr>\n",
       "    <tr>\n",
       "      <th>18</th>\n",
       "      <td>18</td>\n",
       "      <td>0.975090</td>\n",
       "      <td>0.073167</td>\n",
       "      <td>0.671470</td>\n",
       "      <td>1.354610</td>\n",
       "    </tr>\n",
       "    <tr>\n",
       "      <th>19</th>\n",
       "      <td>19</td>\n",
       "      <td>0.977027</td>\n",
       "      <td>0.071496</td>\n",
       "      <td>0.659942</td>\n",
       "      <td>1.413102</td>\n",
       "    </tr>\n",
       "    <tr>\n",
       "      <th>20</th>\n",
       "      <td>20</td>\n",
       "      <td>0.976751</td>\n",
       "      <td>0.067579</td>\n",
       "      <td>0.680115</td>\n",
       "      <td>1.392601</td>\n",
       "    </tr>\n",
       "    <tr>\n",
       "      <th>21</th>\n",
       "      <td>21</td>\n",
       "      <td>0.977027</td>\n",
       "      <td>0.068787</td>\n",
       "      <td>0.665706</td>\n",
       "      <td>1.441996</td>\n",
       "    </tr>\n",
       "    <tr>\n",
       "      <th>22</th>\n",
       "      <td>22</td>\n",
       "      <td>0.977304</td>\n",
       "      <td>0.066578</td>\n",
       "      <td>0.662824</td>\n",
       "      <td>1.494821</td>\n",
       "    </tr>\n",
       "    <tr>\n",
       "      <th>23</th>\n",
       "      <td>23</td>\n",
       "      <td>0.978965</td>\n",
       "      <td>0.061863</td>\n",
       "      <td>0.662824</td>\n",
       "      <td>1.490098</td>\n",
       "    </tr>\n",
       "    <tr>\n",
       "      <th>24</th>\n",
       "      <td>24</td>\n",
       "      <td>0.977304</td>\n",
       "      <td>0.059219</td>\n",
       "      <td>0.662824</td>\n",
       "      <td>1.553143</td>\n",
       "    </tr>\n",
       "  </tbody>\n",
       "</table>\n",
       "</div>"
      ],
      "text/plain": [
       "    epoch  accuracy      loss  val_accuracy  val_loss\n",
       "0       0  0.350401  1.332134      0.409222  1.289253\n",
       "1       1  0.640188  1.001347      0.680115  0.902941\n",
       "2       2  0.796568  0.579014      0.711816  0.769744\n",
       "3       3  0.846665  0.415357      0.703170  0.756198\n",
       "4       4  0.882646  0.329292      0.697406  0.774735\n",
       "5       5  0.907556  0.264233      0.706052  0.829456\n",
       "6       6  0.925547  0.218601      0.691643  0.889627\n",
       "7       7  0.942153  0.179017      0.682997  0.964771\n",
       "8       8  0.951287  0.147764      0.685879  0.973577\n",
       "9       9  0.960421  0.133017      0.671470  1.081445\n",
       "10     10  0.964296  0.123107      0.682997  1.095736\n",
       "11     11  0.967063  0.107738      0.671470  1.158093\n",
       "12     12  0.971215  0.096200      0.677233  1.240918\n",
       "13     13  0.971769  0.094993      0.677233  1.240955\n",
       "14     14  0.974260  0.080401      0.677233  1.258939\n",
       "15     15  0.975367  0.084159      0.680115  1.308442\n",
       "16     16  0.974260  0.086467      0.668588  1.317928\n",
       "17     17  0.975920  0.075729      0.682997  1.293458\n",
       "18     18  0.975090  0.073167      0.671470  1.354610\n",
       "19     19  0.977027  0.071496      0.659942  1.413102\n",
       "20     20  0.976751  0.067579      0.680115  1.392601\n",
       "21     21  0.977027  0.068787      0.665706  1.441996\n",
       "22     22  0.977304  0.066578      0.662824  1.494821\n",
       "23     23  0.978965  0.061863      0.662824  1.490098\n",
       "24     24  0.977304  0.059219      0.662824  1.553143"
      ]
     },
     "execution_count": 36,
     "metadata": {},
     "output_type": "execute_result"
    }
   ],
   "source": [
    "#Let's take a look at the training log\n",
    "training_log = pd.DataFrame()\n",
    "training_log = pd.read_csv(\"logs/training_log.csv\")\n",
    "training_log"
   ]
  },
  {
   "cell_type": "code",
   "execution_count": 37,
   "metadata": {},
   "outputs": [
    {
     "data": {
      "image/png": "[encoded data removed]",
      "text/plain": [
       "<Figure size 432x288 with 1 Axes>"
      ]
     },
     "metadata": {
      "needs_background": "light"
     },
     "output_type": "display_data"
    }
   ],
   "source": [
    "import keras\n",
    "from matplotlib import pyplot as plt\n",
    "plt.plot(history.history['accuracy'])\n",
    "plt.plot(history.history['val_accuracy'])\n",
    "plt.title('Training Accuracy per epoch')\n",
    "plt.ylabel('Accuracy')\n",
    "plt.xlabel('Epochs')\n",
    "plt.legend(['Train Accuracy', 'Val Accuracy'], loc='upper left')\n",
    "plt.show()"
   ]
  },
  {
   "cell_type": "code",
   "execution_count": 38,
   "metadata": {},
   "outputs": [
    {
     "data": {
      "image/png": "[encoded data removed]",
      "text/plain": [
       "<Figure size 432x288 with 1 Axes>"
      ]
     },
     "metadata": {
      "needs_background": "light"
     },
     "output_type": "display_data"
    }
   ],
   "source": [
    "plt.plot(history.history['loss'])\n",
    "plt.plot(history.history['val_loss'])\n",
    "plt.title('Training Loss per epoch')\n",
    "plt.ylabel('Loss')\n",
    "plt.xlabel('Epochs')\n",
    "plt.legend(['Train loss', 'Val loss'], loc='upper left')\n",
    "plt.show()"
   ]
  },
  {
   "cell_type": "markdown",
   "metadata": {},
   "source": [
    "The \"Training Accuracy per epoch\" is facing the overfitting problem, meaning that it's having high variance and low bias. It may be affected by having too many parameters. We could use the method of regularization or by dropout to solve the overfitting problem. Also, we could also try to increase training data and reduce the model complexity.  \n",
    ".\n",
    "\n",
    "The \"Training Loss per epoch\" is facing the underfitting problem, which is having high bias and low variance. It might be the consequence of having too little model complexity, not having enough number of features, or containing noise. We could solve this problem by dealing with the problems mentioned above, by increasing the number of epochs or increase the time of training , or by using more data and also reducing the features by feature selection to have better results."
   ]
  },
  {
   "cell_type": "markdown",
   "metadata": {},
   "source": [
    "### ** >>> Exercise 7 (Take home): **  \n",
    "\n",
    "Now, we have the word vectors, but our input data is a sequence of words (or say sentence). \n",
    "How can we utilize these \"word\" vectors to represent the sentence data and train our model?\n"
   ]
  },
  {
   "cell_type": "markdown",
   "metadata": {},
   "source": [
    "By having the word vectors, we can combine all the word vectors together to represent the sentence data."
   ]
  },
  {
   "cell_type": "markdown",
   "metadata": {},
   "source": [
    "### ** >>> Exercise 8 (Take home): **  \n",
    "\n",
    "Generate a t-SNE visualization to show the 15 words most related to the words \"angry\", \"happy\", \"sad\", \"fear\" (60 words total)."
   ]
  },
  {
   "cell_type": "code",
   "execution_count": 40,
   "metadata": {},
   "outputs": [
    {
     "data": {
      "text/html": [
       "<div>\n",
       "<style scoped>\n",
       "    .dataframe tbody tr th:only-of-type {\n",
       "        vertical-align: middle;\n",
       "    }\n",
       "\n",
       "    .dataframe tbody tr th {\n",
       "        vertical-align: top;\n",
       "    }\n",
       "\n",
       "    .dataframe thead th {\n",
       "        text-align: right;\n",
       "    }\n",
       "</style>\n",
       "<table border=\"1\" class=\"dataframe\">\n",
       "  <thead>\n",
       "    <tr style=\"text-align: right;\">\n",
       "      <th></th>\n",
       "      <th>id</th>\n",
       "      <th>text</th>\n",
       "      <th>text_tokenized</th>\n",
       "    </tr>\n",
       "  </thead>\n",
       "  <tbody>\n",
       "    <tr>\n",
       "      <th>1161</th>\n",
       "      <td>20304</td>\n",
       "      <td>@twinfjournal @TwinningLife111 @KCtwinflame @T...</td>\n",
       "      <td>[@, twinfjournal, @, TwinningLife111, @, KCtwi...</td>\n",
       "    </tr>\n",
       "    <tr>\n",
       "      <th>3480</th>\n",
       "      <td>40653</td>\n",
       "      <td>Let's get drunk and tell each other things we'...</td>\n",
       "      <td>[Let, 's, get, drunk, and, tell, each, other, ...</td>\n",
       "    </tr>\n",
       "    <tr>\n",
       "      <th>445</th>\n",
       "      <td>10445</td>\n",
       "      <td>@trendykittykat Some people would rather hang ...</td>\n",
       "      <td>[@, trendykittykat, Some, people, would, rathe...</td>\n",
       "    </tr>\n",
       "    <tr>\n",
       "      <th>2574</th>\n",
       "      <td>30570</td>\n",
       "      <td>every time a new Anthony Weiner revelation bre...</td>\n",
       "      <td>[every, time, a, new, Anthony, Weiner, revelat...</td>\n",
       "    </tr>\n",
       "    <tr>\n",
       "      <th>3077</th>\n",
       "      <td>40250</td>\n",
       "      <td>How can you blame the manager watching these p...</td>\n",
       "      <td>[How, can, you, blame, the, manager, watching,...</td>\n",
       "    </tr>\n",
       "  </tbody>\n",
       "</table>\n",
       "</div>"
      ],
      "text/plain": [
       "         id                                               text  \\\n",
       "1161  20304  @twinfjournal @TwinningLife111 @KCtwinflame @T...   \n",
       "3480  40653  Let's get drunk and tell each other things we'...   \n",
       "445   10445  @trendykittykat Some people would rather hang ...   \n",
       "2574  30570  every time a new Anthony Weiner revelation bre...   \n",
       "3077  40250  How can you blame the manager watching these p...   \n",
       "\n",
       "                                         text_tokenized  \n",
       "1161  [@, twinfjournal, @, TwinningLife111, @, KCtwi...  \n",
       "3480  [Let, 's, get, drunk, and, tell, each, other, ...  \n",
       "445   [@, trendykittykat, Some, people, would, rathe...  \n",
       "2574  [every, time, a, new, Anthony, Weiner, revelat...  \n",
       "3077  [How, can, you, blame, the, manager, watching,...  "
      ]
     },
     "execution_count": 40,
     "metadata": {},
     "output_type": "execute_result"
    }
   ],
   "source": [
    "## check library\n",
    "import gensim\n",
    "\n",
    "## ignore warnings\n",
    "import warnings\n",
    "warnings.filterwarnings('ignore')\n",
    "\n",
    "# # if you want to see the training messages, you can use it\n",
    "# import logging\n",
    "# logging.basicConfig(format='%(asctime)s : %(levelname)s : %(message)s', level=logging.INFO)\n",
    "\n",
    "## the input type\n",
    "train_df['text_tokenized'] = train_df['text'].apply(lambda x: nltk.word_tokenize(x))\n",
    "train_df[['id', 'text', 'text_tokenized']].head()"
   ]
  },
  {
   "cell_type": "code",
   "execution_count": 41,
   "metadata": {},
   "outputs": [
    {
     "data": {
      "text/plain": [
       "array([list(['@', 'twinfjournal', '@', 'TwinningLife111', '@', 'KCtwinflame', '@', 'TFUnion1111', '@', 'Para_Priestess', '@', 'cupidpoetry', 'I', 'went', 'thru', 'the', 'same', 'thing', 'yesterday', '#', 'panic', 'better2day']),\n",
       "       list(['Let', \"'s\", 'get', 'drunk', 'and', 'tell', 'each', 'other', 'things', 'we', \"'re\", 'afraid', 'to', 'say', 'when', 'we', \"'re\", 'sober', '.']),\n",
       "       list(['@', 'trendykittykat', 'Some', 'people', 'would', 'rather', 'hang', 'on', 'to', 'their', 'indignant', 'anger', '.', '*weary', 'sigh*'])],\n",
       "      dtype=object)"
      ]
     },
     "execution_count": 41,
     "metadata": {},
     "output_type": "execute_result"
    }
   ],
   "source": [
    "## create the training corpus\n",
    "training_corpus = train_df['text_tokenized'].values\n",
    "training_corpus[:3]"
   ]
  },
  {
   "cell_type": "code",
   "execution_count": 42,
   "metadata": {},
   "outputs": [
    {
     "data": {
      "text/html": [
       "<div>\n",
       "<style scoped>\n",
       "    .dataframe tbody tr th:only-of-type {\n",
       "        vertical-align: middle;\n",
       "    }\n",
       "\n",
       "    .dataframe tbody tr th {\n",
       "        vertical-align: top;\n",
       "    }\n",
       "\n",
       "    .dataframe thead th {\n",
       "        text-align: right;\n",
       "    }\n",
       "</style>\n",
       "<table border=\"1\" class=\"dataframe\">\n",
       "  <thead>\n",
       "    <tr style=\"text-align: right;\">\n",
       "      <th></th>\n",
       "      <th>id</th>\n",
       "      <th>text</th>\n",
       "      <th>text_tokenized</th>\n",
       "    </tr>\n",
       "  </thead>\n",
       "  <tbody>\n",
       "    <tr>\n",
       "      <th>1161</th>\n",
       "      <td>20304</td>\n",
       "      <td>@twinfjournal @TwinningLife111 @KCtwinflame @T...</td>\n",
       "      <td>[@, twinfjournal, @, TwinningLife111, @, KCtwi...</td>\n",
       "    </tr>\n",
       "    <tr>\n",
       "      <th>3480</th>\n",
       "      <td>40653</td>\n",
       "      <td>Let's get drunk and tell each other things we'...</td>\n",
       "      <td>[Let, 's, get, drunk, and, tell, each, other, ...</td>\n",
       "    </tr>\n",
       "    <tr>\n",
       "      <th>445</th>\n",
       "      <td>10445</td>\n",
       "      <td>@trendykittykat Some people would rather hang ...</td>\n",
       "      <td>[@, trendykittykat, Some, people, would, rathe...</td>\n",
       "    </tr>\n",
       "    <tr>\n",
       "      <th>2574</th>\n",
       "      <td>30570</td>\n",
       "      <td>every time a new Anthony Weiner revelation bre...</td>\n",
       "      <td>[every, time, a, new, Anthony, Weiner, revelat...</td>\n",
       "    </tr>\n",
       "    <tr>\n",
       "      <th>3077</th>\n",
       "      <td>40250</td>\n",
       "      <td>How can you blame the manager watching these p...</td>\n",
       "      <td>[How, can, you, blame, the, manager, watching,...</td>\n",
       "    </tr>\n",
       "  </tbody>\n",
       "</table>\n",
       "</div>"
      ],
      "text/plain": [
       "         id                                               text  \\\n",
       "1161  20304  @twinfjournal @TwinningLife111 @KCtwinflame @T...   \n",
       "3480  40653  Let's get drunk and tell each other things we'...   \n",
       "445   10445  @trendykittykat Some people would rather hang ...   \n",
       "2574  30570  every time a new Anthony Weiner revelation bre...   \n",
       "3077  40250  How can you blame the manager watching these p...   \n",
       "\n",
       "                                         text_tokenized  \n",
       "1161  [@, twinfjournal, @, TwinningLife111, @, KCtwi...  \n",
       "3480  [Let, 's, get, drunk, and, tell, each, other, ...  \n",
       "445   [@, trendykittykat, Some, people, would, rathe...  \n",
       "2574  [every, time, a, new, Anthony, Weiner, revelat...  \n",
       "3077  [How, can, you, blame, the, manager, watching,...  "
      ]
     },
     "execution_count": 42,
     "metadata": {},
     "output_type": "execute_result"
    }
   ],
   "source": [
    "## the input type\n",
    "train_df['text_tokenized'] = train_df['text'].apply(lambda x: nltk.word_tokenize(x))\n",
    "train_df[['id', 'text', 'text_tokenized']].head()"
   ]
  },
  {
   "cell_type": "code",
   "execution_count": 43,
   "metadata": {},
   "outputs": [],
   "source": [
    "from gensim.models import Word2Vec\n",
    "\n",
    "## setting\n",
    "vector_dim = 100\n",
    "window_size = 5\n",
    "min_count = 1\n",
    "training_iter = 20\n",
    "\n",
    "## model\n",
    "word2vec_model = Word2Vec(sentences=training_corpus, \n",
    "                          size=vector_dim, window=window_size, \n",
    "                          min_count=min_count, iter=training_iter)"
   ]
  },
  {
   "cell_type": "code",
   "execution_count": 44,
   "metadata": {},
   "outputs": [
    {
     "name": "stdout",
     "output_type": "stream",
     "text": [
      "happy_words:  ['happy', 'ukedchat', 'free', 'blessed', 'Be', 'forever', 'help', '👌', 'plz', 'cant', 'November', 'bday', 'griffin', 'O', 'right', 'smile']\n",
      "angry_words:  ['angry', 'travel', 'sober', 'win', 'surprised', 'Please', 'questions', 'Jimmy', 'won', 'students', 'Cause', 'cry', 'They', 'already', 'help', 'comments']\n",
      "sad_words:  ['sad', 'later', 'funny', 'results', 'hilarious', 'cats', 'joke', 'Looks', 'shocking', 'panic', 'missedoutonsummerbikinibodybutwintersunbodywilldo', 'Late', 'cry', 'editing', 'awful', 'Who']\n",
      "fear_words:  ['fear', 'living', 'thoughts', 'bestrong', 'photos', 'promise', 'Choose', 'happiness', 'GBBO', 'soup', 'violence', 'restoration', 'threat', 'charger', 'failure', 'release']\n",
      "\n",
      "target words: \n",
      "['happy', 'ukedchat', 'free', 'blessed', 'Be', 'forever', 'help', '👌', 'plz', 'cant', 'November', 'bday', 'griffin', 'O', 'right', 'smile', 'angry', 'travel', 'sober', 'win', 'surprised', 'Please', 'questions', 'Jimmy', 'won', 'students', 'Cause', 'cry', 'They', 'already', 'help', 'comments', 'sad', 'later', 'funny', 'results', 'hilarious', 'cats', 'joke', 'Looks', 'shocking', 'panic', 'missedoutonsummerbikinibodybutwintersunbodywilldo', 'Late', 'cry', 'editing', 'awful', 'Who', 'fear', 'living', 'thoughts', 'bestrong', 'photos', 'promise', 'Choose', 'happiness', 'GBBO', 'soup', 'violence', 'restoration', 'threat', 'charger', 'failure', 'release']\n",
      "\n",
      "color list:\n",
      "['b', 'b', 'b', 'b', 'b', 'b', 'b', 'b', 'b', 'b', 'b', 'b', 'b', 'b', 'b', 'b', 'g', 'g', 'g', 'g', 'g', 'g', 'g', 'g', 'g', 'g', 'g', 'g', 'g', 'g', 'g', 'g', 'r', 'r', 'r', 'r', 'r', 'r', 'r', 'r', 'r', 'r', 'r', 'r', 'r', 'r', 'r', 'r', 'y', 'y', 'y', 'y', 'y', 'y', 'y', 'y', 'y', 'y', 'y', 'y', 'y', 'y', 'y', 'y']\n"
     ]
    }
   ],
   "source": [
    "word_list = ['happy', 'angry', 'sad', 'fear']\n",
    "\n",
    "topn = 15\n",
    "happy_words = ['happy'] + [word_ for word_, sim_ in word2vec_model.most_similar('happy', topn=topn)]\n",
    "angry_words = ['angry'] + [word_ for word_, sim_ in word2vec_model.most_similar('angry', topn=topn)]        \n",
    "sad_words = ['sad'] + [word_ for word_, sim_ in word2vec_model.most_similar('sad', topn=topn)]        \n",
    "fear_words = ['fear'] + [word_ for word_, sim_ in word2vec_model.most_similar('fear', topn=topn)]        \n",
    "\n",
    "print('happy_words: ', happy_words)\n",
    "print('angry_words: ', angry_words)\n",
    "print('sad_words: ', sad_words)\n",
    "print('fear_words: ', fear_words)\n",
    "\n",
    "target_words = happy_words + angry_words + sad_words + fear_words\n",
    "print('\\ntarget words: ')\n",
    "print(target_words)\n",
    "\n",
    "print('\\ncolor list:')\n",
    "cn = topn + 1\n",
    "color = ['b'] * cn + ['g'] * cn + ['r'] * cn + ['y'] * cn\n",
    "print(color)"
   ]
  },
  {
   "cell_type": "code",
   "execution_count": 45,
   "metadata": {},
   "outputs": [
    {
     "data": {
      "image/png": "[encoded data removed]",
      "text/plain": [
       "<Figure size 862.5x862.5 with 1 Axes>"
      ]
     },
     "metadata": {
      "needs_background": "light"
     },
     "output_type": "display_data"
    }
   ],
   "source": [
    "%matplotlib inline\n",
    "import matplotlib.pyplot as plt\n",
    "from sklearn.manifold import TSNE\n",
    "\n",
    "## w2v model\n",
    "model = word2vec_model\n",
    "\n",
    "## prepare training word vectors\n",
    "size = 200\n",
    "target_size = len(target_words)\n",
    "all_word = list(model.wv.vocab.keys())\n",
    "word_train = target_words + all_word[:size]\n",
    "X_train = model[word_train]\n",
    "\n",
    "## t-SNE model\n",
    "tsne = TSNE(n_components=2, metric='cosine', random_state=28)\n",
    "\n",
    "## training\n",
    "X_tsne = tsne.fit_transform(X_train)\n",
    "\n",
    "## plot the result\n",
    "plt.figure(figsize=(7.5, 7.5), dpi=115)\n",
    "plt.scatter(X_tsne[:target_size, 0], X_tsne[:target_size, 1], c=color)\n",
    "for label, x, y in zip(target_words, X_tsne[:target_size, 0], X_tsne[:target_size, 1]):\n",
    "    plt.annotate(label, xy=(x,y), xytext=(0,0),  textcoords='offset points')\n",
    "plt.show()"
   ]
  },
  {
   "cell_type": "markdown",
   "metadata": {},
   "source": [
    "# Part 3: Kaggle Competition - Twitter Analysis"
   ]
  },
  {
   "cell_type": "markdown",
   "metadata": {},
   "source": [
    "The fotllowing contents are:\n",
    "    1. Data Loading and Preprocessing\n",
    "    2. Feature engineering\n",
    "    3. Model Training\n",
    "    4. Results Generation and Evaluation"
   ]
  },
  {
   "cell_type": "markdown",
   "metadata": {},
   "source": [
    "### 1. Data Loading and Preprocessing"
   ]
  },
  {
   "cell_type": "markdown",
   "metadata": {},
   "source": [
    "Before beggining the competition, please make sure to download the [Twitter Dataset](https://www.kaggle.com/c/dm2020-hw2-nthu/data?select=tweets_DM.json)\n",
    "Start loading the **csv** and **json** files into a single pandas dataframe."
   ]
  },
  {
   "cell_type": "code",
   "execution_count": 17,
   "metadata": {},
   "outputs": [],
   "source": [
    "# Import Libraries\n",
    "import pandas as pd\n",
    "import numpy as np\n",
    "import matplotlib.pyplot as plt\n",
    "import json\n",
    "import nltk\n",
    "import kashgari\n",
    "from kashgari.tasks.labeling import BiLSTM_CRF_Model\n",
    "from kashgari.embeddings import BertEmbedding\n"
   ]
  },
  {
   "cell_type": "code",
   "execution_count": 5,
   "metadata": {},
   "outputs": [],
   "source": [
    "# Load data from csv files and set up the column names\n",
    "data_id = pd.read_csv(\"data_identification.csv\",\n",
    "                         sep=\",\", header=None, names=[\"id\", \"identification\"])\n",
    "emotion = pd.read_csv(\"emotion.csv\",\n",
    "                         sep=\",\", header=None, names=[\"id\", \"emotion\"])\n",
    "# Delete [0] row of the columns\n",
    "data_id = data_id.drop([0])\n",
    "emotion = emotion.drop([0])\n"
   ]
  },
  {
   "cell_type": "code",
   "execution_count": 6,
   "metadata": {},
   "outputs": [
    {
     "data": {
      "text/html": [
       "<div>\n",
       "<style scoped>\n",
       "    .dataframe tbody tr th:only-of-type {\n",
       "        vertical-align: middle;\n",
       "    }\n",
       "\n",
       "    .dataframe tbody tr th {\n",
       "        vertical-align: top;\n",
       "    }\n",
       "\n",
       "    .dataframe thead th {\n",
       "        text-align: right;\n",
       "    }\n",
       "</style>\n",
       "<table border=\"1\" class=\"dataframe\">\n",
       "  <thead>\n",
       "    <tr style=\"text-align: right;\">\n",
       "      <th></th>\n",
       "      <th>id</th>\n",
       "      <th>emotion</th>\n",
       "      <th>identification</th>\n",
       "    </tr>\n",
       "  </thead>\n",
       "  <tbody>\n",
       "    <tr>\n",
       "      <th>0</th>\n",
       "      <td>0x3140b1</td>\n",
       "      <td>sadness</td>\n",
       "      <td>train</td>\n",
       "    </tr>\n",
       "    <tr>\n",
       "      <th>1</th>\n",
       "      <td>0x368b73</td>\n",
       "      <td>disgust</td>\n",
       "      <td>train</td>\n",
       "    </tr>\n",
       "    <tr>\n",
       "      <th>2</th>\n",
       "      <td>0x296183</td>\n",
       "      <td>anticipation</td>\n",
       "      <td>train</td>\n",
       "    </tr>\n",
       "    <tr>\n",
       "      <th>3</th>\n",
       "      <td>0x2bd6e1</td>\n",
       "      <td>joy</td>\n",
       "      <td>train</td>\n",
       "    </tr>\n",
       "    <tr>\n",
       "      <th>4</th>\n",
       "      <td>0x2ee1dd</td>\n",
       "      <td>anticipation</td>\n",
       "      <td>train</td>\n",
       "    </tr>\n",
       "    <tr>\n",
       "      <th>...</th>\n",
       "      <td>...</td>\n",
       "      <td>...</td>\n",
       "      <td>...</td>\n",
       "    </tr>\n",
       "    <tr>\n",
       "      <th>1867530</th>\n",
       "      <td>0x2c4dc2</td>\n",
       "      <td>NaN</td>\n",
       "      <td>test</td>\n",
       "    </tr>\n",
       "    <tr>\n",
       "      <th>1867531</th>\n",
       "      <td>0x31be7c</td>\n",
       "      <td>NaN</td>\n",
       "      <td>test</td>\n",
       "    </tr>\n",
       "    <tr>\n",
       "      <th>1867532</th>\n",
       "      <td>0x1ca58e</td>\n",
       "      <td>NaN</td>\n",
       "      <td>test</td>\n",
       "    </tr>\n",
       "    <tr>\n",
       "      <th>1867533</th>\n",
       "      <td>0x35c8ba</td>\n",
       "      <td>NaN</td>\n",
       "      <td>test</td>\n",
       "    </tr>\n",
       "    <tr>\n",
       "      <th>1867534</th>\n",
       "      <td>0x1d941b</td>\n",
       "      <td>NaN</td>\n",
       "      <td>test</td>\n",
       "    </tr>\n",
       "  </tbody>\n",
       "</table>\n",
       "<p>1867535 rows × 3 columns</p>\n",
       "</div>"
      ],
      "text/plain": [
       "               id       emotion identification\n",
       "0        0x3140b1       sadness          train\n",
       "1        0x368b73       disgust          train\n",
       "2        0x296183  anticipation          train\n",
       "3        0x2bd6e1           joy          train\n",
       "4        0x2ee1dd  anticipation          train\n",
       "...           ...           ...            ...\n",
       "1867530  0x2c4dc2           NaN           test\n",
       "1867531  0x31be7c           NaN           test\n",
       "1867532  0x1ca58e           NaN           test\n",
       "1867533  0x35c8ba           NaN           test\n",
       "1867534  0x1d941b           NaN           test\n",
       "\n",
       "[1867535 rows x 3 columns]"
      ]
     },
     "execution_count": 6,
     "metadata": {},
     "output_type": "execute_result"
    }
   ],
   "source": [
    "# Merge data_id & emotion\n",
    "merge = pd.merge(emotion, data_id ,on = 'id', how = 'outer') # include training and testing\n",
    "merge"
   ]
  },
  {
   "cell_type": "code",
   "execution_count": 7,
   "metadata": {},
   "outputs": [],
   "source": [
    "# According to identification, seperate datas into train_data & test_data by query.\n",
    "train_data = merge.query(\"identification == 'train'\")\n",
    "test_data = merge.query(\"identification == 'test'\")\n",
    "\n",
    "# To rerange index from 0\n",
    "test_data.index = range(len(test_data))\n"
   ]
  },
  {
   "cell_type": "markdown",
   "metadata": {},
   "source": [
    "**We need to do sth. for letting JSON file to combine with csv files.**"
   ]
  },
  {
   "cell_type": "code",
   "execution_count": 8,
   "metadata": {},
   "outputs": [],
   "source": [
    "# Read data from json file and converted them into list.\n",
    "json_list = list()\n",
    "with open('tweets_DM.json' , 'r') as file:\n",
    "    for line in file:\n",
    "        json_list.append(json.loads(line))"
   ]
  },
  {
   "cell_type": "code",
   "execution_count": 9,
   "metadata": {},
   "outputs": [
    {
     "data": {
      "text/html": [
       "<div>\n",
       "<style scoped>\n",
       "    .dataframe tbody tr th:only-of-type {\n",
       "        vertical-align: middle;\n",
       "    }\n",
       "\n",
       "    .dataframe tbody tr th {\n",
       "        vertical-align: top;\n",
       "    }\n",
       "\n",
       "    .dataframe thead th {\n",
       "        text-align: right;\n",
       "    }\n",
       "</style>\n",
       "<table border=\"1\" class=\"dataframe\">\n",
       "  <thead>\n",
       "    <tr style=\"text-align: right;\">\n",
       "      <th></th>\n",
       "      <th>id</th>\n",
       "      <th>hashtag</th>\n",
       "      <th>text</th>\n",
       "    </tr>\n",
       "  </thead>\n",
       "  <tbody>\n",
       "    <tr>\n",
       "      <th>0</th>\n",
       "      <td>0x376b20</td>\n",
       "      <td>[Snapchat]</td>\n",
       "      <td>People who post \"add me on #Snapchat\" must be ...</td>\n",
       "    </tr>\n",
       "    <tr>\n",
       "      <th>1</th>\n",
       "      <td>0x2d5350</td>\n",
       "      <td>[freepress, TrumpLegacy, CNN]</td>\n",
       "      <td>@brianklaas As we see, Trump is dangerous to #...</td>\n",
       "    </tr>\n",
       "    <tr>\n",
       "      <th>2</th>\n",
       "      <td>0x28b412</td>\n",
       "      <td>[bibleverse]</td>\n",
       "      <td>Confident of your obedience, I write to you, k...</td>\n",
       "    </tr>\n",
       "    <tr>\n",
       "      <th>3</th>\n",
       "      <td>0x1cd5b0</td>\n",
       "      <td>[]</td>\n",
       "      <td>Now ISSA is stalking Tasha 😂😂😂 &lt;LH&gt;</td>\n",
       "    </tr>\n",
       "    <tr>\n",
       "      <th>4</th>\n",
       "      <td>0x2de201</td>\n",
       "      <td>[]</td>\n",
       "      <td>\"Trust is not the same as faith. A friend is s...</td>\n",
       "    </tr>\n",
       "    <tr>\n",
       "      <th>...</th>\n",
       "      <td>...</td>\n",
       "      <td>...</td>\n",
       "      <td>...</td>\n",
       "    </tr>\n",
       "    <tr>\n",
       "      <th>1867530</th>\n",
       "      <td>0x316b80</td>\n",
       "      <td>[mixedfeeling, butimTHATperson]</td>\n",
       "      <td>When you buy the last 2 tickets remaining for ...</td>\n",
       "    </tr>\n",
       "    <tr>\n",
       "      <th>1867531</th>\n",
       "      <td>0x29d0cb</td>\n",
       "      <td>[]</td>\n",
       "      <td>I swear all this hard work gone pay off one da...</td>\n",
       "    </tr>\n",
       "    <tr>\n",
       "      <th>1867532</th>\n",
       "      <td>0x2a6a4f</td>\n",
       "      <td>[]</td>\n",
       "      <td>@Parcel2Go no card left when I wasn't in so I ...</td>\n",
       "    </tr>\n",
       "    <tr>\n",
       "      <th>1867533</th>\n",
       "      <td>0x24faed</td>\n",
       "      <td>[]</td>\n",
       "      <td>Ah, corporate life, where you can date &lt;LH&gt; us...</td>\n",
       "    </tr>\n",
       "    <tr>\n",
       "      <th>1867534</th>\n",
       "      <td>0x34be8c</td>\n",
       "      <td>[Sundayvibes]</td>\n",
       "      <td>Blessed to be living #Sundayvibes &lt;LH&gt;</td>\n",
       "    </tr>\n",
       "  </tbody>\n",
       "</table>\n",
       "<p>1867535 rows × 3 columns</p>\n",
       "</div>"
      ],
      "text/plain": [
       "               id                          hashtag  \\\n",
       "0        0x376b20                       [Snapchat]   \n",
       "1        0x2d5350    [freepress, TrumpLegacy, CNN]   \n",
       "2        0x28b412                     [bibleverse]   \n",
       "3        0x1cd5b0                               []   \n",
       "4        0x2de201                               []   \n",
       "...           ...                              ...   \n",
       "1867530  0x316b80  [mixedfeeling, butimTHATperson]   \n",
       "1867531  0x29d0cb                               []   \n",
       "1867532  0x2a6a4f                               []   \n",
       "1867533  0x24faed                               []   \n",
       "1867534  0x34be8c                    [Sundayvibes]   \n",
       "\n",
       "                                                      text  \n",
       "0        People who post \"add me on #Snapchat\" must be ...  \n",
       "1        @brianklaas As we see, Trump is dangerous to #...  \n",
       "2        Confident of your obedience, I write to you, k...  \n",
       "3                      Now ISSA is stalking Tasha 😂😂😂 <LH>  \n",
       "4        \"Trust is not the same as faith. A friend is s...  \n",
       "...                                                    ...  \n",
       "1867530  When you buy the last 2 tickets remaining for ...  \n",
       "1867531  I swear all this hard work gone pay off one da...  \n",
       "1867532  @Parcel2Go no card left when I wasn't in so I ...  \n",
       "1867533  Ah, corporate life, where you can date <LH> us...  \n",
       "1867534             Blessed to be living #Sundayvibes <LH>  \n",
       "\n",
       "[1867535 rows x 3 columns]"
      ]
     },
     "execution_count": 9,
     "metadata": {},
     "output_type": "execute_result"
    }
   ],
   "source": [
    "# Insert tweet_id, hashtags, and text into dataframe 'text_df'\n",
    "tweet_list = list()\n",
    "for json in json_list:\n",
    "    ids = json['_source']['tweet']['tweet_id']\n",
    "    hashtags = json['_source']['tweet']['hashtags']\n",
    "    text = json['_source']['tweet']['text']\n",
    "    tweet_list.append([ids, hashtags, text])\n",
    "text_df = pd.DataFrame(tweet_list, columns=['id', 'hashtag', 'text'])\n",
    "text_df"
   ]
  },
  {
   "cell_type": "markdown",
   "metadata": {},
   "source": [
    "### 2. Feature Engineering"
   ]
  },
  {
   "cell_type": "markdown",
   "metadata": {},
   "source": [
    "**In the following trial and erroes process, I used TF-IDF and BOW-Countvectorizer as my feature engineering method, and tried different models to see the difference and the results.**"
   ]
  },
  {
   "cell_type": "code",
   "execution_count": 11,
   "metadata": {},
   "outputs": [
    {
     "data": {
      "text/plain": [
       "['038',\n",
       " '039',\n",
       " '03960',\n",
       " '03_ats',\n",
       " '03_cordelia',\n",
       " '03a',\n",
       " '03am',\n",
       " '03antonio_h',\n",
       " '03e656edbd354cb',\n",
       " '03flwah',\n",
       " '03greedo',\n",
       " '03h00',\n",
       " '03kaatak2074',\n",
       " '03miles',\n",
       " '03november',\n",
       " '03october2017',\n",
       " '03pm',\n",
       " '03rdnov2017',\n",
       " '03safar',\n",
       " '03u',\n",
       " '03x05',\n",
       " '04',\n",
       " '040',\n",
       " '0400',\n",
       " '0400am',\n",
       " '0400ats',\n",
       " '0400sm',\n",
       " '04011',\n",
       " '040113lti',\n",
       " '04034',\n",
       " '04041',\n",
       " '0409',\n",
       " '040jobs',\n",
       " '041',\n",
       " '0412afrxn',\n",
       " '0414',\n",
       " '04144770297',\n",
       " '0418gm',\n",
       " '042',\n",
       " '0420',\n",
       " '0420889808ami',\n",
       " '0426',\n",
       " '042716',\n",
       " '042917',\n",
       " '042gossip',\n",
       " '043',\n",
       " '0430',\n",
       " '0430alexu',\n",
       " '0430pm',\n",
       " '0430yes']"
      ]
     },
     "execution_count": 11,
     "metadata": {},
     "output_type": "execute_result"
    }
   ],
   "source": [
    "# Generate tfidf features\n",
    "from sklearn.feature_extraction.text import TfidfVectorizer\n",
    "tfidf_vect = TfidfVectorizer()\n",
    "tfidf_vect.fit(text_df['text'])\n",
    "tfidf_vect.get_feature_names()[500:550]"
   ]
  },
  {
   "cell_type": "code",
   "execution_count": 16,
   "metadata": {},
   "outputs": [
    {
     "data": {
      "text/plain": [
       "['asked',\n",
       " 'asking',\n",
       " 'ass',\n",
       " 'at',\n",
       " 'august',\n",
       " 'away',\n",
       " 'awesome',\n",
       " 'b',\n",
       " 'baby',\n",
       " 'back']"
      ]
     },
     "execution_count": 16,
     "metadata": {},
     "output_type": "execute_result"
    }
   ],
   "source": [
    "# Build tfidf analyzers\n",
    "tfidf_1000 = TfidfVectorizer(max_features=1000, tokenizer=nltk.word_tokenize)\n",
    "\n",
    "# Apply analyzer to training data\n",
    "tfidf_1000.fit(text_df['text'])\n",
    "\n",
    "tfidf_1000.get_feature_names()[100:110]"
   ]
  },
  {
   "cell_type": "markdown",
   "metadata": {},
   "source": [
    "CountVectorizer features:"
   ]
  },
  {
   "cell_type": "code",
   "execution_count": null,
   "metadata": {},
   "outputs": [],
   "source": [
    "# Generated BOW features\n",
    "from sklearn.feature_extraction.text import CountVectorizer\n",
    "# Build BOW analyzers \n",
    "BOW_vectorizer = CountVectorizer()\n",
    "BOW_vectorizer.fit(train_data['text'])\n",
    "\n",
    "train_data_BOW_features = BOW_vectorizer.transform(train_data['text'])\n",
    "test_data_BOW_features = BOW_vectorizer.transform(test_data['text'])\n",
    "\n",
    "BOW_500 = CountVectorizer(max_features=500, tokenizer=nltk.word_tokenize) \n",
    "\n",
    "# Apply analyzer to training data\n",
    "BOW_500.fit(train_data['text'])\n",
    "\n",
    "train_data_BOW_features_500 = BOW_500.transform(train_data['text'])\n"
   ]
  },
  {
   "cell_type": "markdown",
   "metadata": {},
   "source": [
    "## Model Training"
   ]
  },
  {
   "cell_type": "markdown",
   "metadata": {},
   "source": [
    "***By the previous step, I use Countvectorizer or TF-IDF as my feature engineering method, here, the model, I use Decision Tree, Naive Bayes - MultinomialNB, Naive Bayes - Bernoulli, Ensemble - Random Forest, and LSTM model(by kashgari) as my model training method. ***"
   ]
  },
  {
   "cell_type": "markdown",
   "metadata": {},
   "source": [
    "**Decision Tree:**"
   ]
  },
  {
   "cell_type": "code",
   "execution_count": null,
   "metadata": {},
   "outputs": [],
   "source": [
    "from sklearn.tree import DecisionTreeClassifier\n",
    "\n",
    "# for a classificaiton problem, you need to provide both training & testing data\n",
    "X_train = tfidf_1000.transform(train_data['text'])\n",
    "y_train = train_data['emotion']\n",
    "\n",
    "X_test = tfidf_1000.transform(test_data['text'])\n",
    "y_test = test_data['emotion']\n",
    "\n",
    "# take a look at data dimension is a good habbit  :)\n",
    "print('X_train.shape: ', X_train.shape)\n",
    "print('y_train.shape: ', y_train.shape)\n",
    "print('X_test.shape: ', X_test.shape)\n",
    "print('y_test.shape: ', y_test.shape)"
   ]
  },
  {
   "cell_type": "code",
   "execution_count": null,
   "metadata": {},
   "outputs": [],
   "source": [
    "# build DecisionTree model\n",
    "DT_model = DecisionTreeClassifier(random_state=0)\n",
    "\n",
    "# Model Training\n",
    "DT_model = DT_model.fit(X_train, y_train)\n",
    "\n",
    "y_train_pred = DT_model.predict(X_train)\n",
    "y_test_pred = DT_model.predict(X_test)\n"
   ]
  },
  {
   "cell_type": "markdown",
   "metadata": {},
   "source": [
    "**Naive Bayes - MultinomialNB:**"
   ]
  },
  {
   "cell_type": "code",
   "execution_count": null,
   "metadata": {},
   "outputs": [],
   "source": [
    "from sklearn.naive_bayes import MultinomialNB\n",
    "X_train = BOW_500.transform(train_data['text'])\n",
    "y_train = train_data['emotion']\n",
    "\n",
    "X_test = BOW_500.transform(test_data['text'])\n",
    "y_test = test_data['emotion']\n"
   ]
  },
  {
   "cell_type": "code",
   "execution_count": null,
   "metadata": {},
   "outputs": [],
   "source": [
    "# build MultinomialNB model\n",
    "mnb_model = MultinomialNB()\n",
    "\n",
    "# Model Training\n",
    "mnb_model = mnb_model.fit(X_train, y_train)\n",
    "\n",
    "y_train_pred = mnb_model.predict(X_train)\n",
    "y_test_pred = mnb_model.predict(X_test)\n"
   ]
  },
  {
   "cell_type": "markdown",
   "metadata": {},
   "source": [
    "**Naive Bayes - BernoulliNB:**"
   ]
  },
  {
   "cell_type": "code",
   "execution_count": null,
   "metadata": {},
   "outputs": [],
   "source": [
    "from sklearn.naive_bayes import BernoulliNB\n",
    "\n",
    "\n",
    "# for a classificaiton problem, you need to provide both training & testing data\n",
    "X_train = tfidf_1000.transform(train_data['text'])\n",
    "y_train = train_data['emotion']\n",
    "\n",
    "X_test = tfidf_1000.transform(test_data['text'])\n",
    "y_test = test_data['emotion']"
   ]
  },
  {
   "cell_type": "code",
   "execution_count": null,
   "metadata": {},
   "outputs": [],
   "source": [
    "# build BernoulliNB model\n",
    "mnb_model = BernoulliNB()\n",
    "\n",
    "# Model Training\n",
    "mnb_model = mnb_model.fit(X_train, y_train)\n",
    "\n",
    "y_train_pred = mnb_model.predict(X_train)\n",
    "y_test_pred = mnb_model.predict(X_test)\n"
   ]
  },
  {
   "cell_type": "markdown",
   "metadata": {},
   "source": [
    "**Ensemble - Random Forest:**"
   ]
  },
  {
   "cell_type": "code",
   "execution_count": null,
   "metadata": {},
   "outputs": [],
   "source": [
    "from sklearn.ensemble import RandomForestClassifier\n",
    "\n",
    "\n",
    "# for a classificaiton problem, you need to provide both training & testing data\n",
    "X_train = tfidf_1000.transform(train_data['text'])\n",
    "y_train = train_data['emotion']\n",
    "\n",
    "X_test = tfidf_1000.transform(test_data['text'])\n",
    "y_test = test_data['emotion']\n"
   ]
  },
  {
   "cell_type": "code",
   "execution_count": null,
   "metadata": {},
   "outputs": [],
   "source": [
    "# build RandomForest model\n",
    "RF_model = RandomForestClassifier(random_state=0)\n",
    "\n",
    "# Model Training\n",
    "RF_model = RF_model.fit(X_train, y_train)\n",
    "\n",
    "y_train_pred = RF_model.predict(X_train)\n",
    "y_test_pred = RF_model.predict(X_test)\n"
   ]
  },
  {
   "cell_type": "markdown",
   "metadata": {},
   "source": [
    "**LSTM model(by kashgari):**"
   ]
  },
  {
   "cell_type": "markdown",
   "metadata": {},
   "source": [
    "Select GPU to run LSTM model."
   ]
  },
  {
   "cell_type": "code",
   "execution_count": null,
   "metadata": {},
   "outputs": [],
   "source": [
    "import tensorflow as tf\n",
    "# 預設情況下，tensorflow會為了避免碎片化的記憶體造成效能不佳的情況而一次性的佔用顯卡所有記憶體，\n",
    "# 這部份可以透過tf.config來限制硬體資源以及指定顯卡記憶體的使用。\n",
    "def select_gpu(N):\n",
    "    gpus = tf.config.experimental.list_physical_devices('GPU')\n",
    "    print(gpus)\n",
    "    if gpus:\n",
    "        try:\n",
    "            for gpu in gpus:\n",
    "                tf.config.experimental.set_memory_growth(gpu, True)\n",
    "            # 指定使用哪顆GPU\n",
    "            tf.config.experimental.set_visible_devices(gpus[N], 'GPU')\n",
    "            logical_gpus = tf.config.experimental.list_logical_devices('GPU')\n",
    "            print(len(gpus), \"Physical GPUs,\", len(logical_gpus), \"Logical GPUs\")\n",
    "        except RuntimeError as e:\n",
    "            print(e)\n",
    "select_gpu(1)"
   ]
  },
  {
   "cell_type": "code",
   "execution_count": null,
   "metadata": {},
   "outputs": [],
   "source": [
    "def tokenize_text(text, remove_stopwords=False):\n",
    "    \"\"\"\n",
    "    Tokenize text using the nltk library\n",
    "    \"\"\"\n",
    "    tokens = []\n",
    "    for d in nltk.sent_tokenize(text, language='english'):\n",
    "        for word in nltk.word_tokenize(d, language='english'):\n",
    "            # filters here\n",
    "            tokens.append(word)\n",
    "    return tokens\n",
    "\n",
    "train_data['unigrams'] = train_data['text'].apply(lambda train_data: tokenize_text(train_data))\n",
    "test_data['unigrams'] = test_data['text'].apply(lambda test_data: tokenize_text(test_data))"
   ]
  },
  {
   "cell_type": "code",
   "execution_count": null,
   "metadata": {},
   "outputs": [],
   "source": [
    "import kashgari\n",
    "from kashgari.tasks.classification import BiLSTM_Model\n",
    "\n",
    "import logging\n",
    "logging.basicConfig(level='DEBUG')\n",
    "\n",
    "model = BiLSTM_Model()\n",
    "model.fit(train_data['unigrams'], train_data['emotion'])\n",
    "\n",
    "# Evaluate the model\n",
    "#model.evaluate(test_x, test_y)\n",
    "\n",
    "# Model data will save to `saved_ner_model` folder\n",
    "model.save('saved_classification_model')\n",
    "\n",
    "# Load saved model\n",
    "loaded_model = BiLSTM_Model.load_model('saved_classification_model')\n",
    "y_test_pred = loaded_model.predict(test_data['unigrams'])\n",
    "\n",
    "# To continue training, compile the newly loaded model first\n",
    "loaded_model.compile_model()\n",
    "model.fit(train_data['unigrams'], train_data['emotion'])"
   ]
  },
  {
   "cell_type": "markdown",
   "metadata": {},
   "source": [
    "### 4. Results Generation and Evaluation"
   ]
  },
  {
   "cell_type": "markdown",
   "metadata": {},
   "source": [
    "**Result Generation step:**\n",
    "Delete the cilumns that is useless like 'emotion', 'identification', 'hashtag', 'text' of test_data, and use pd.concat to merge the dataframe with df_y_test_pred.Then, convert the dataframe into csv files."
   ]
  },
  {
   "cell_type": "code",
   "execution_count": null,
   "metadata": {},
   "outputs": [],
   "source": [
    "# Delte four columns -'emotion','identification','hashtag','text' from the whole dataframe.\n",
    "test_total = test_data\n",
    "del test_total['emotion']\n",
    "del test_total['identification']\n",
    "del test_total['hashtag']\n",
    "del test_total['text']"
   ]
  },
  {
   "cell_type": "code",
   "execution_count": null,
   "metadata": {},
   "outputs": [],
   "source": [
    "#combine the emotion and id together\n",
    "df_y_test_pred = pd.DataFrame(y_test_pred)\n",
    "result = pd.concat([test_total, df_y_test_pred], axis=1)\n",
    "result"
   ]
  },
  {
   "cell_type": "code",
   "execution_count": null,
   "metadata": {},
   "outputs": [],
   "source": [
    "#COnvert the result to csv file.\n",
    "result.to_csv(\"result_Count with BN.csv\")"
   ]
  },
  {
   "cell_type": "markdown",
   "metadata": {},
   "source": [
    "**Result Generation step:**\n",
    "Evaluate by Kaggle, the followings are my result performance."
   ]
  },
  {
   "cell_type": "markdown",
   "metadata": {},
   "source": [
    "**Use Countvectorizer as feature engineering method, and DecisionTree as my model.**\n",
    "![Imgur](pics/pic2.png)"
   ]
  },
  {
   "cell_type": "markdown",
   "metadata": {},
   "source": [
    "**Use Countvectorizer as feature engineering method, and Naive Bayes - MultinomialNB as my model.**\n",
    "![Imgur](pics/pic3.png)"
   ]
  },
  {
   "cell_type": "markdown",
   "metadata": {},
   "source": [
    "**Use Countvectorizer as feature engineering method, and Naive Bayes - BernoulliNB as my model.**\n",
    "![Imgur](pics/pic4.png)"
   ]
  },
  {
   "cell_type": "markdown",
   "metadata": {},
   "source": [
    "**Use tfidfvectorizer as feature engineering method, and Naive Bayes - BernoulliNB as my model.**\n",
    "![Imgur](pics/pic5.png)"
   ]
  },
  {
   "cell_type": "markdown",
   "metadata": {},
   "source": [
    "**Use Countvectorizer as feature engineering method, and RandomForest as my model.**\n",
    "![Imgur](pics/pic6.png)"
   ]
  },
  {
   "cell_type": "markdown",
   "metadata": {},
   "source": [
    "**Use tfidfvectorizer as feature engineering method, and RndomForest as my model.**\n",
    "![Imgur](pics/pic7.PNG)"
   ]
  },
  {
   "cell_type": "markdown",
   "metadata": {},
   "source": [
    "**Use tfidfvectorizer as feature engineering method, and BiLSTM as my model.**\n",
    "![Imgur](pics/pic8.PNG)"
   ]
  },
  {
   "cell_type": "markdown",
   "metadata": {},
   "source": [
    "**By feature engineering side:**"
   ]
  },
  {
   "cell_type": "markdown",
   "metadata": {},
   "source": [
    "Since by using both CountVectorizer and tfidfvectorizer in \"RandomForest\" and \"Naive Bayes - BernoulliNB\" models, we could compare the result performance and found that tfidfvectorizer works better in this case. \n",
    "\n",
    "\n",
    "\n",
    "Since TfidfVectorizer consider overall document weightage of a word, we could deal with the most frequent words about how often they appear in the documents."
   ]
  },
  {
   "cell_type": "markdown",
   "metadata": {},
   "source": [
    "**By Model Training side:**"
   ]
  },
  {
   "cell_type": "markdown",
   "metadata": {},
   "source": [
    "1.For the accuracy, we can see BiLSTM > RandomForest > BernoulliNB > MultinomialNB > Decision Tree, however, the time consumption of BiLSTM, Randomforest is much more large, so it's for us to considerate the trade-off effects.\n",
    "\n",
    "\n",
    "\n",
    "2.The size of Naive Bayes model size is appropriate to be low, and Random Forest model size is appropriate to be large, since this time the data is relatively huge, the Randomforest worked better!\n",
    "\n",
    "\n",
    "\n",
    "3.Since the Random Forest is a collection of decision trees, it's a relatively strong and robust modeling method compared to a decision tree. Also, the Random Forest method could solve the overfitting problem as well since it connect many decision trees together, we could also see that, from the accuracy of Random Forest and Decision Tree, the random forest works better.\n",
    "\n",
    "\n",
    "\n",
    "4.LSTM model - Long Shor-Term Memory networks, it's an application of RNNs and it's capable of learning Long-term dependencies, and by the research, it's much more capable of prediction problems in machine translation and recognition, etc. LSTM has also outstanding performance on a large size of data, we could see this time for my trial and errors process, the BiLSTM model really oustands towards all the other models!\n",
    "\n"
   ]
  }
 ],
 "metadata": {
  "kernelspec": {
   "display_name": "Python 3",
   "language": "python",
   "name": "python3"
  },
  "language_info": {
   "codemirror_mode": {
    "name": "ipython",
    "version": 3
   },
   "file_extension": ".py",
   "mimetype": "text/x-python",
   "name": "python",
   "nbconvert_exporter": "python",
   "pygments_lexer": "ipython3",
   "version": "3.7.3"
  },
  "varInspector": {
   "cols": {
    "lenName": 16,
    "lenType": 16,
    "lenVar": 40
   },
   "kernels_config": {
    "python": {
     "delete_cmd_postfix": "",
     "delete_cmd_prefix": "del ",
     "library": "var_list.py",
     "varRefreshCmd": "print(var_dic_list())"
    },
    "r": {
     "delete_cmd_postfix": ") ",
     "delete_cmd_prefix": "rm(",
     "library": "var_list.r",
     "varRefreshCmd": "cat(var_dic_list()) "
    }
   },
   "types_to_exclude": [
    "module",
    "function",
    "builtin_function_or_method",
    "instance",
    "_Feature"
   ],
   "window_display": false
  }
 },
 "nbformat": 4,
 "nbformat_minor": 2
}
